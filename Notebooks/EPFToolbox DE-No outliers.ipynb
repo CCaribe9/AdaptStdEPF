{
 "cells": [
  {
   "cell_type": "code",
   "execution_count": 1,
   "id": "ebc186f0",
   "metadata": {
    "ExecuteTime": {
     "end_time": "2023-07-26T12:47:57.895127Z",
     "start_time": "2023-07-26T12:47:53.190779Z"
    }
   },
   "outputs": [
    {
     "name": "stderr",
     "output_type": "stream",
     "text": [
      "C:\\Users\\UX431\\anaconda3\\lib\\site-packages\\statsmodels\\compat\\pandas.py:61: FutureWarning: pandas.Int64Index is deprecated and will be removed from pandas in a future version. Use pandas.Index with the appropriate dtype instead.\n",
      "  from pandas import Int64Index as NumericIndex\n"
     ]
    }
   ],
   "source": [
    "import pandas as pd\n",
    "import numpy as np\n",
    "import datetime as dt\n",
    "import warnings\n",
    "import matplotlib.pyplot as plt\n",
    "from sklearn.preprocessing import StandardScaler\n",
    "from tqdm import tqdm\n",
    "import pickle\n",
    "from statsmodels.graphics.tsaplots import plot_pacf, plot_acf\n",
    "from statsmodels.tsa.statespace.sarimax import SARIMAX\n",
    "import copy\n",
    "from sklearn.metrics import mean_absolute_error, mean_squared_error, r2_score\n",
    "warnings.filterwarnings(action='ignore')\n",
    "from epftoolbox.evaluation import MAE, sMAPE"
   ]
  },
  {
   "cell_type": "markdown",
   "id": "f11d1a09",
   "metadata": {},
   "source": [
    "# Estandarización móvil + LEAR + No outliers"
   ]
  },
  {
   "cell_type": "code",
   "execution_count": 2,
   "id": "5460b3b4",
   "metadata": {
    "ExecuteTime": {
     "end_time": "2023-07-26T12:47:57.971373Z",
     "start_time": "2023-07-26T12:47:57.897248Z"
    }
   },
   "outputs": [],
   "source": [
    "df = pd.read_csv(\"Data\\EPFToolbox\\DE.csv\")\n",
    "# df['Date'] = pd.to_datetime(df.Date)"
   ]
  },
  {
   "cell_type": "code",
   "execution_count": 3,
   "id": "e4bebdd8",
   "metadata": {
    "ExecuteTime": {
     "end_time": "2023-07-26T12:47:58.081475Z",
     "start_time": "2023-07-26T12:47:57.975374Z"
    }
   },
   "outputs": [],
   "source": [
    "df['Date'] = pd.to_datetime(df.Date)\n",
    "df['Simple Date'] = df.Date.dt.strftime(\"%Y-%m-%d\")\n",
    "df['Hour'] = df.Date.dt.hour"
   ]
  },
  {
   "cell_type": "code",
   "execution_count": 4,
   "id": "dced0c58",
   "metadata": {
    "ExecuteTime": {
     "end_time": "2023-07-26T12:47:58.097474Z",
     "start_time": "2023-07-26T12:47:58.084473Z"
    }
   },
   "outputs": [],
   "source": [
    "df.columns = ['Date', 'Price', 'Exogenous 1', 'Exogenous 2', 'Simple Date', 'Hour']"
   ]
  },
  {
   "cell_type": "code",
   "execution_count": 5,
   "id": "7c4d1e33",
   "metadata": {
    "ExecuteTime": {
     "end_time": "2023-07-26T12:47:58.129260Z",
     "start_time": "2023-07-26T12:47:58.099475Z"
    }
   },
   "outputs": [
    {
     "data": {
      "text/html": [
       "<div>\n",
       "<style scoped>\n",
       "    .dataframe tbody tr th:only-of-type {\n",
       "        vertical-align: middle;\n",
       "    }\n",
       "\n",
       "    .dataframe tbody tr th {\n",
       "        vertical-align: top;\n",
       "    }\n",
       "\n",
       "    .dataframe thead th {\n",
       "        text-align: right;\n",
       "    }\n",
       "</style>\n",
       "<table border=\"1\" class=\"dataframe\">\n",
       "  <thead>\n",
       "    <tr style=\"text-align: right;\">\n",
       "      <th></th>\n",
       "      <th>Date</th>\n",
       "      <th>Price</th>\n",
       "      <th>Exogenous 1</th>\n",
       "      <th>Exogenous 2</th>\n",
       "      <th>Simple Date</th>\n",
       "      <th>Hour</th>\n",
       "    </tr>\n",
       "  </thead>\n",
       "  <tbody>\n",
       "    <tr>\n",
       "      <th>0</th>\n",
       "      <td>2012-01-09 00:00:00</td>\n",
       "      <td>34.97</td>\n",
       "      <td>2072.00</td>\n",
       "      <td>16382.00</td>\n",
       "      <td>2012-01-09</td>\n",
       "      <td>0</td>\n",
       "    </tr>\n",
       "    <tr>\n",
       "      <th>1</th>\n",
       "      <td>2012-01-09 01:00:00</td>\n",
       "      <td>33.43</td>\n",
       "      <td>1929.75</td>\n",
       "      <td>15410.50</td>\n",
       "      <td>2012-01-09</td>\n",
       "      <td>1</td>\n",
       "    </tr>\n",
       "    <tr>\n",
       "      <th>2</th>\n",
       "      <td>2012-01-09 02:00:00</td>\n",
       "      <td>32.74</td>\n",
       "      <td>1856.00</td>\n",
       "      <td>15595.00</td>\n",
       "      <td>2012-01-09</td>\n",
       "      <td>2</td>\n",
       "    </tr>\n",
       "    <tr>\n",
       "      <th>3</th>\n",
       "      <td>2012-01-09 03:00:00</td>\n",
       "      <td>32.46</td>\n",
       "      <td>1808.75</td>\n",
       "      <td>16521.00</td>\n",
       "      <td>2012-01-09</td>\n",
       "      <td>3</td>\n",
       "    </tr>\n",
       "    <tr>\n",
       "      <th>4</th>\n",
       "      <td>2012-01-09 04:00:00</td>\n",
       "      <td>32.50</td>\n",
       "      <td>1765.75</td>\n",
       "      <td>17700.75</td>\n",
       "      <td>2012-01-09</td>\n",
       "      <td>4</td>\n",
       "    </tr>\n",
       "    <tr>\n",
       "      <th>...</th>\n",
       "      <td>...</td>\n",
       "      <td>...</td>\n",
       "      <td>...</td>\n",
       "      <td>...</td>\n",
       "      <td>...</td>\n",
       "      <td>...</td>\n",
       "    </tr>\n",
       "    <tr>\n",
       "      <th>52411</th>\n",
       "      <td>2017-12-31 19:00:00</td>\n",
       "      <td>7.92</td>\n",
       "      <td>1300.00</td>\n",
       "      <td>16601.00</td>\n",
       "      <td>2017-12-31</td>\n",
       "      <td>19</td>\n",
       "    </tr>\n",
       "    <tr>\n",
       "      <th>52412</th>\n",
       "      <td>2017-12-31 20:00:00</td>\n",
       "      <td>4.06</td>\n",
       "      <td>1261.00</td>\n",
       "      <td>15977.75</td>\n",
       "      <td>2017-12-31</td>\n",
       "      <td>20</td>\n",
       "    </tr>\n",
       "    <tr>\n",
       "      <th>52413</th>\n",
       "      <td>2017-12-31 21:00:00</td>\n",
       "      <td>5.30</td>\n",
       "      <td>1243.25</td>\n",
       "      <td>15715.00</td>\n",
       "      <td>2017-12-31</td>\n",
       "      <td>21</td>\n",
       "    </tr>\n",
       "    <tr>\n",
       "      <th>52414</th>\n",
       "      <td>2017-12-31 22:00:00</td>\n",
       "      <td>1.86</td>\n",
       "      <td>1250.50</td>\n",
       "      <td>15876.00</td>\n",
       "      <td>2017-12-31</td>\n",
       "      <td>22</td>\n",
       "    </tr>\n",
       "    <tr>\n",
       "      <th>52415</th>\n",
       "      <td>2017-12-31 23:00:00</td>\n",
       "      <td>-0.92</td>\n",
       "      <td>1270.75</td>\n",
       "      <td>15130.00</td>\n",
       "      <td>2017-12-31</td>\n",
       "      <td>23</td>\n",
       "    </tr>\n",
       "  </tbody>\n",
       "</table>\n",
       "<p>52416 rows × 6 columns</p>\n",
       "</div>"
      ],
      "text/plain": [
       "                     Date  Price  Exogenous 1  Exogenous 2 Simple Date  Hour\n",
       "0     2012-01-09 00:00:00  34.97      2072.00     16382.00  2012-01-09     0\n",
       "1     2012-01-09 01:00:00  33.43      1929.75     15410.50  2012-01-09     1\n",
       "2     2012-01-09 02:00:00  32.74      1856.00     15595.00  2012-01-09     2\n",
       "3     2012-01-09 03:00:00  32.46      1808.75     16521.00  2012-01-09     3\n",
       "4     2012-01-09 04:00:00  32.50      1765.75     17700.75  2012-01-09     4\n",
       "...                   ...    ...          ...          ...         ...   ...\n",
       "52411 2017-12-31 19:00:00   7.92      1300.00     16601.00  2017-12-31    19\n",
       "52412 2017-12-31 20:00:00   4.06      1261.00     15977.75  2017-12-31    20\n",
       "52413 2017-12-31 21:00:00   5.30      1243.25     15715.00  2017-12-31    21\n",
       "52414 2017-12-31 22:00:00   1.86      1250.50     15876.00  2017-12-31    22\n",
       "52415 2017-12-31 23:00:00  -0.92      1270.75     15130.00  2017-12-31    23\n",
       "\n",
       "[52416 rows x 6 columns]"
      ]
     },
     "execution_count": 5,
     "metadata": {},
     "output_type": "execute_result"
    }
   ],
   "source": [
    "df"
   ]
  },
  {
   "cell_type": "code",
   "execution_count": 6,
   "id": "b94ca0e7",
   "metadata": {
    "ExecuteTime": {
     "end_time": "2023-07-26T12:47:58.598105Z",
     "start_time": "2023-07-26T12:47:58.246182Z"
    }
   },
   "outputs": [
    {
     "data": {
      "image/png": "[encoded data removed]",
      "text/plain": [
       "<Figure size 1080x432 with 1 Axes>"
      ]
     },
     "metadata": {
      "needs_background": "light"
     },
     "output_type": "display_data"
    }
   ],
   "source": [
    "fig, ax = plt.subplots(1, 1, figsize=(15, 6))\n",
    "ax.plot(df.Date, df.Price)\n",
    "ax.grid()"
   ]
  },
  {
   "cell_type": "code",
   "execution_count": 7,
   "id": "e9349c2a",
   "metadata": {},
   "outputs": [],
   "source": [
    "df['Price_no_outliers'] = df.Price"
   ]
  },
  {
   "cell_type": "markdown",
   "id": "fd1ebf98",
   "metadata": {},
   "source": [
    "Se añaden variables auxiliares"
   ]
  },
  {
   "cell_type": "code",
   "execution_count": 8,
   "id": "653c4b5c",
   "metadata": {
    "ExecuteTime": {
     "end_time": "2023-06-17T10:11:34.085181Z",
     "start_time": "2023-06-17T10:11:34.072492Z"
    }
   },
   "outputs": [],
   "source": [
    "# df['Price_24'] = df.Price.shift(24)\n",
    "# df['Price_48'] = df.Price.shift(48)\n",
    "# df['Price_72'] = df.Price.shift(72)\n",
    "# df['Price_96'] = df.Price.shift(96)\n",
    "# df['Price_120'] = df.Price.shift(120)\n",
    "# df['Price_144'] = df.Price.shift(144)\n",
    "# df['Price_168'] = df.Price.shift(168)"
   ]
  },
  {
   "cell_type": "code",
   "execution_count": 9,
   "id": "b700a33b",
   "metadata": {},
   "outputs": [],
   "source": [
    "# df[\"diff_Price_24\"] = df.Price - df.Price_24\n",
    "# df[\"lower_quantile_diff_Price_24\"] = np.nan\n",
    "# df[\"upper_quantile_diff_Price_24\"] = np.nan\n",
    "# for idx in range(len(df)):\n",
    "#     if idx >= 168:\n",
    "#         df_aux = df.loc[idx - 168 : idx - 1]\n",
    "#         df.loc[idx, \"lower_quantile_diff_Price_24\"] = np.quantile(\n",
    "#             df.diff_Price_24.dropna().to_numpy(), 0.025\n",
    "#         )\n",
    "#         df.loc[idx, \"upper_quantile_diff_Price_24\"] = np.quantile(\n",
    "#             df.diff_Price_24.dropna().to_numpy(), 0.975\n",
    "#         )\n",
    "\n",
    "# df[\"outlier\"] = 0\n",
    "# df.loc[\n",
    "#     (df.diff_Price_24 < df.lower_quantile_diff_Price_24)\n",
    "#     | (df.diff_Price_24 > df.upper_quantile_diff_Price_24),\n",
    "#     \"outlier\",\n",
    "# ] = 1\n",
    "\n",
    "# df[\"Price_no_outliers\"] = df[\"Price\"]\n",
    "# col = df.loc[\n",
    "#     :,\n",
    "#     [\n",
    "#         \"Price_24\",\n",
    "#         \"Price_48\",\n",
    "#         \"Price_72\",\n",
    "#         \"Price_96\",\n",
    "#         \"Price_120\",\n",
    "#         \"Price_144\",\n",
    "#         \"Price_168\",\n",
    "#     ],\n",
    "# ]\n",
    "# df[\"Price_median\"] = col.median(axis=1)\n",
    "# df.loc[df.outlier == 1, \"Price_no_outliers\"] = df[\n",
    "#     df.outlier == 1\n",
    "# ].Price_median"
   ]
  },
  {
   "cell_type": "code",
   "execution_count": 10,
   "id": "8da2ed17",
   "metadata": {},
   "outputs": [],
   "source": [
    "# df.outlier.sum()"
   ]
  },
  {
   "cell_type": "code",
   "execution_count": 11,
   "id": "c52c6d69",
   "metadata": {},
   "outputs": [],
   "source": [
    "# fig, ax = plt.subplots(1, 1, figsize=(15, 6))\n",
    "# ax.plot(df.Date, df.Price)\n",
    "# ax.plot(df.Date, df.Price_no_outliers)\n",
    "# ax.grid()"
   ]
  },
  {
   "cell_type": "code",
   "execution_count": 12,
   "id": "0f173de9",
   "metadata": {
    "ExecuteTime": {
     "end_time": "2023-06-17T10:11:35.338227Z",
     "start_time": "2023-06-17T10:11:35.263846Z"
    }
   },
   "outputs": [],
   "source": [
    "# names = ['Monday', 'Tuesday', 'Wednesday', 'Thursday', 'Friday', 'Saturday', 'Sunday']\n",
    "\n",
    "# for i, x in enumerate(names):\n",
    "#     df[x] = (pd.to_datetime(df['Simple Date']).dt.weekday == i).astype(int)"
   ]
  },
  {
   "cell_type": "code",
   "execution_count": 13,
   "id": "a2a023c7",
   "metadata": {
    "ExecuteTime": {
     "end_time": "2023-06-17T10:12:15.067244Z",
     "start_time": "2023-06-17T10:11:36.335156Z"
    }
   },
   "outputs": [],
   "source": [
    "# for hora in range(24):\n",
    "#     df['Price_hora_'+str(hora)] = np.nan\n",
    "\n",
    "# for fecha in df['Simple Date'].unique():\n",
    "#     df_fecha = df[df['Simple Date'] == fecha]\n",
    "    \n",
    "#     for hora in df_fecha.Hour.unique():\n",
    "#         Price_hora = df_fecha[df_fecha.Hour == hora].Price.values[0]\n",
    "        \n",
    "#         df.loc[df_fecha.index, 'Price_hora_'+str(hora)] = Price_hora"
   ]
  },
  {
   "cell_type": "code",
   "execution_count": 14,
   "id": "71498390",
   "metadata": {
    "ExecuteTime": {
     "end_time": "2023-06-17T10:12:15.147086Z",
     "start_time": "2023-06-17T10:12:15.070157Z"
    }
   },
   "outputs": [],
   "source": [
    "# for col in ['Price_hora_'+str(hora) for hora in range(24)]:\n",
    "#     df[col+\"_\"+str(24)] = df[col].shift(24)\n",
    "#     df[col+\"_\"+str(48)] = df[col].shift(48)\n",
    "#     df[col+\"_\"+str(72)] = df[col].shift(72)\n",
    "#     df[col+\"_\"+str(168)] = df[col].shift(168)"
   ]
  },
  {
   "cell_type": "code",
   "execution_count": 15,
   "id": "c9b37030",
   "metadata": {
    "ExecuteTime": {
     "end_time": "2023-06-17T10:12:50.706232Z",
     "start_time": "2023-06-17T10:12:15.148997Z"
    }
   },
   "outputs": [],
   "source": [
    "# for hora in range(24):\n",
    "#     df['Exogenous 1_hora_'+str(hora)] = np.nan\n",
    "\n",
    "# for fecha in df['Simple Date'].unique():\n",
    "#     df_fecha = df[df['Simple Date'] == fecha]\n",
    "    \n",
    "#     for hora in df_fecha.Hour.unique():\n",
    "#         Exogenous_1_hora = df_fecha[df_fecha.Hour == hora]['Exogenous 1'].values[0]\n",
    "        \n",
    "#         df.loc[df_fecha.index, 'Exogenous 1_hora_'+str(hora)] = Exogenous_1_hora"
   ]
  },
  {
   "cell_type": "code",
   "execution_count": 16,
   "id": "79839004",
   "metadata": {
    "ExecuteTime": {
     "end_time": "2023-06-17T10:13:29.352405Z",
     "start_time": "2023-06-17T10:12:50.708232Z"
    }
   },
   "outputs": [],
   "source": [
    "# for hora in range(24):\n",
    "#     df['Exogenous 2_hora_'+str(hora)] = np.nan\n",
    "\n",
    "# for fecha in df['Simple Date'].unique():\n",
    "#     df_fecha = df[df['Simple Date'] == fecha]\n",
    "    \n",
    "#     for hora in df_fecha.Hour.unique():\n",
    "#         Exogenous_2_hora = df_fecha[df_fecha.Hour == hora]['Exogenous 2'].values[0]\n",
    "        \n",
    "#         df.loc[df_fecha.index, 'Exogenous 2_hora_'+str(hora)] = Exogenous_2_hora"
   ]
  },
  {
   "cell_type": "code",
   "execution_count": 17,
   "id": "71f7ce55",
   "metadata": {
    "ExecuteTime": {
     "end_time": "2023-06-17T10:13:29.431258Z",
     "start_time": "2023-06-17T10:13:29.354518Z"
    }
   },
   "outputs": [],
   "source": [
    "# for col in ['Exogenous 1_hora_'+str(hora) for hora in range(24)]:\n",
    "#     df[col+\"_\"+str(24)] = df[col].shift(24)\n",
    "# #     df[col+\"_\"+str(48)] = df[col].shift(48)\n",
    "# #     df[col+\"_\"+str(72)] = df[col].shift(72)\n",
    "#     df[col+\"_\"+str(168)] = df[col].shift(168)\n",
    "# for col in ['Exogenous 2_hora_'+str(hora) for hora in range(24)]:\n",
    "#     df[col+\"_\"+str(24)] = df[col].shift(24)\n",
    "# #     df[col+\"_\"+str(48)] = df[col].shift(48)\n",
    "# #     df[col+\"_\"+str(72)] = df[col].shift(72)\n",
    "#     df[col+\"_\"+str(168)] = df[col].shift(168)"
   ]
  },
  {
   "cell_type": "code",
   "execution_count": 18,
   "id": "46c1ec7d",
   "metadata": {
    "ExecuteTime": {
     "end_time": "2023-06-17T10:13:29.446456Z",
     "start_time": "2023-06-17T10:13:29.432258Z"
    }
   },
   "outputs": [],
   "source": [
    "# list(df.columns)"
   ]
  },
  {
   "cell_type": "code",
   "execution_count": 19,
   "id": "d66d2eb0",
   "metadata": {
    "ExecuteTime": {
     "end_time": "2023-07-31T08:56:58.210981Z",
     "start_time": "2023-07-31T08:56:58.198614Z"
    }
   },
   "outputs": [],
   "source": [
    "columnas = ['Date',\n",
    " 'Price',\n",
    " 'Price_no_outliers',\n",
    " 'Exogenous 1',\n",
    " 'Exogenous 2',\n",
    " 'Simple Date',\n",
    " 'Hour',\n",
    "#  'Price_24',\n",
    "#  'Price_48',\n",
    "#  'Price_72',\n",
    "#  'Price_168',\n",
    "#  'Price_hora_0',\n",
    "#  'Price_hora_1',\n",
    "#  'Price_hora_2',\n",
    "#  'Price_hora_3',\n",
    "#  'Price_hora_4',\n",
    "#  'Price_hora_5',\n",
    "#  'Price_hora_6',\n",
    "#  'Price_hora_7',\n",
    "#  'Price_hora_8',\n",
    "#  'Price_hora_9',\n",
    "#  'Price_hora_10',\n",
    "#  'Price_hora_11',\n",
    "#  'Price_hora_12',\n",
    "#  'Price_hora_13',\n",
    "#  'Price_hora_14',\n",
    "#  'Price_hora_15',\n",
    "#  'Price_hora_16',\n",
    "#  'Price_hora_17',\n",
    "#  'Price_hora_18',\n",
    "#  'Price_hora_19',\n",
    "#  'Price_hora_20',\n",
    "#  'Price_hora_21',\n",
    "#  'Price_hora_22',\n",
    "#  'Price_hora_23',\n",
    "#  'Price_hora_0_24',\n",
    "#  'Price_hora_0_48',\n",
    "#  'Price_hora_0_72',\n",
    "#  'Price_hora_0_168',\n",
    "#  'Price_hora_1_24',\n",
    "#  'Price_hora_1_48',\n",
    "#  'Price_hora_1_72',\n",
    "#  'Price_hora_1_168',\n",
    "#  'Price_hora_2_24',\n",
    "#  'Price_hora_2_48',\n",
    "#  'Price_hora_2_72',\n",
    "#  'Price_hora_2_168',\n",
    "#  'Price_hora_3_24',\n",
    "#  'Price_hora_3_48',\n",
    "#  'Price_hora_3_72',\n",
    "#  'Price_hora_3_168',\n",
    "#  'Price_hora_4_24',\n",
    "#  'Price_hora_4_48',\n",
    "#  'Price_hora_4_72',\n",
    "#  'Price_hora_4_168',\n",
    "#  'Price_hora_5_24',\n",
    "#  'Price_hora_5_48',\n",
    "#  'Price_hora_5_72',\n",
    "#  'Price_hora_5_168',\n",
    "#  'Price_hora_6_24',\n",
    "#  'Price_hora_6_48',\n",
    "#  'Price_hora_6_72',\n",
    "#  'Price_hora_6_168',\n",
    "#  'Price_hora_7_24',\n",
    "#  'Price_hora_7_48',\n",
    "#  'Price_hora_7_72',\n",
    "#  'Price_hora_7_168',\n",
    "#  'Price_hora_8_24',\n",
    "#  'Price_hora_8_48',\n",
    "#  'Price_hora_8_72',\n",
    "#  'Price_hora_8_168',\n",
    "#  'Price_hora_9_24',\n",
    "#  'Price_hora_9_48',\n",
    "#  'Price_hora_9_72',\n",
    "#  'Price_hora_9_168',\n",
    "#  'Price_hora_10_24',\n",
    "#  'Price_hora_10_48',\n",
    "#  'Price_hora_10_72',\n",
    "#  'Price_hora_10_168',\n",
    "#  'Price_hora_11_24',\n",
    "#  'Price_hora_11_48',\n",
    "#  'Price_hora_11_72',\n",
    "#  'Price_hora_11_168',\n",
    "#  'Price_hora_12_24',\n",
    "#  'Price_hora_12_48',\n",
    "#  'Price_hora_12_72',\n",
    "#  'Price_hora_12_168',\n",
    "#  'Price_hora_13_24',\n",
    "#  'Price_hora_13_48',\n",
    "#  'Price_hora_13_72',\n",
    "#  'Price_hora_13_168',\n",
    "#  'Price_hora_14_24',\n",
    "#  'Price_hora_14_48',\n",
    "#  'Price_hora_14_72',\n",
    "#  'Price_hora_14_168',\n",
    "#  'Price_hora_15_24',\n",
    "#  'Price_hora_15_48',\n",
    "#  'Price_hora_15_72',\n",
    "#  'Price_hora_15_168',\n",
    "#  'Price_hora_16_24',\n",
    "#  'Price_hora_16_48',\n",
    "#  'Price_hora_16_72',\n",
    "#  'Price_hora_16_168',\n",
    "#  'Price_hora_17_24',\n",
    "#  'Price_hora_17_48',\n",
    "#  'Price_hora_17_72',\n",
    "#  'Price_hora_17_168',\n",
    "#  'Price_hora_18_24',\n",
    "#  'Price_hora_18_48',\n",
    "#  'Price_hora_18_72',\n",
    "#  'Price_hora_18_168',\n",
    "#  'Price_hora_19_24',\n",
    "#  'Price_hora_19_48',\n",
    "#  'Price_hora_19_72',\n",
    "#  'Price_hora_19_168',\n",
    "#  'Price_hora_20_24',\n",
    "#  'Price_hora_20_48',\n",
    "#  'Price_hora_20_72',\n",
    "#  'Price_hora_20_168',\n",
    "#  'Price_hora_21_24',\n",
    "#  'Price_hora_21_48',\n",
    "#  'Price_hora_21_72',\n",
    "#  'Price_hora_21_168',\n",
    "#  'Price_hora_22_24',\n",
    "#  'Price_hora_22_48',\n",
    "#  'Price_hora_22_72',\n",
    "#  'Price_hora_22_168',\n",
    "#  'Price_hora_23_24',\n",
    "#  'Price_hora_23_48',\n",
    "#  'Price_hora_23_72',\n",
    "#  'Price_hora_23_168',\n",
    "#  'Exogenous 1_hora_0',\n",
    "#  'Exogenous 1_hora_1',\n",
    "#  'Exogenous 1_hora_2',\n",
    "#  'Exogenous 1_hora_3',\n",
    "#  'Exogenous 1_hora_4',\n",
    "#  'Exogenous 1_hora_5',\n",
    "#  'Exogenous 1_hora_6',\n",
    "#  'Exogenous 1_hora_7',\n",
    "#  'Exogenous 1_hora_8',\n",
    "#  'Exogenous 1_hora_9',\n",
    "#  'Exogenous 1_hora_10',\n",
    "#  'Exogenous 1_hora_11',\n",
    "#  'Exogenous 1_hora_12',\n",
    "#  'Exogenous 1_hora_13',\n",
    "#  'Exogenous 1_hora_14',\n",
    "#  'Exogenous 1_hora_15',\n",
    "#  'Exogenous 1_hora_16',\n",
    "#  'Exogenous 1_hora_17',\n",
    "#  'Exogenous 1_hora_18',\n",
    "#  'Exogenous 1_hora_19',\n",
    "#  'Exogenous 1_hora_20',\n",
    "#  'Exogenous 1_hora_21',\n",
    "#  'Exogenous 1_hora_22',\n",
    "#  'Exogenous 1_hora_23',\n",
    "#  'Exogenous 2_hora_0',\n",
    "#  'Exogenous 2_hora_1',\n",
    "#  'Exogenous 2_hora_2',\n",
    "#  'Exogenous 2_hora_3',\n",
    "#  'Exogenous 2_hora_4',\n",
    "#  'Exogenous 2_hora_5',\n",
    "#  'Exogenous 2_hora_6',\n",
    "#  'Exogenous 2_hora_7',\n",
    "#  'Exogenous 2_hora_8',\n",
    "#  'Exogenous 2_hora_9',\n",
    "#  'Exogenous 2_hora_10',\n",
    "#  'Exogenous 2_hora_11',\n",
    "#  'Exogenous 2_hora_12',\n",
    "#  'Exogenous 2_hora_13',\n",
    "#  'Exogenous 2_hora_14',\n",
    "#  'Exogenous 2_hora_15',\n",
    "#  'Exogenous 2_hora_16',\n",
    "#  'Exogenous 2_hora_17',\n",
    "#  'Exogenous 2_hora_18',\n",
    "#  'Exogenous 2_hora_19',\n",
    "#  'Exogenous 2_hora_20',\n",
    "#  'Exogenous 2_hora_21',\n",
    "#  'Exogenous 2_hora_22',\n",
    "#  'Exogenous 2_hora_23',\n",
    "#  'Exogenous 1_hora_0_24',\n",
    "#  'Exogenous 1_hora_0_168',\n",
    "#  'Exogenous 1_hora_1_24',\n",
    "#  'Exogenous 1_hora_1_168',\n",
    "#  'Exogenous 1_hora_2_24',\n",
    "#  'Exogenous 1_hora_2_168',\n",
    "#  'Exogenous 1_hora_3_24',\n",
    "#  'Exogenous 1_hora_3_168',\n",
    "#  'Exogenous 1_hora_4_24',\n",
    "#  'Exogenous 1_hora_4_168',\n",
    "#  'Exogenous 1_hora_5_24',\n",
    "#  'Exogenous 1_hora_5_168',\n",
    "#  'Exogenous 1_hora_6_24',\n",
    "#  'Exogenous 1_hora_6_168',\n",
    "#  'Exogenous 1_hora_7_24',\n",
    "#  'Exogenous 1_hora_7_168',\n",
    "#  'Exogenous 1_hora_8_24',\n",
    "#  'Exogenous 1_hora_8_168',\n",
    "#  'Exogenous 1_hora_9_24',\n",
    "#  'Exogenous 1_hora_9_168',\n",
    "#  'Exogenous 1_hora_10_24',\n",
    "#  'Exogenous 1_hora_10_168',\n",
    "#  'Exogenous 1_hora_11_24',\n",
    "#  'Exogenous 1_hora_11_168',\n",
    "#  'Exogenous 1_hora_12_24',\n",
    "#  'Exogenous 1_hora_12_168',\n",
    "#  'Exogenous 1_hora_13_24',\n",
    "#  'Exogenous 1_hora_13_168',\n",
    "#  'Exogenous 1_hora_14_24',\n",
    "#  'Exogenous 1_hora_14_168',\n",
    "#  'Exogenous 1_hora_15_24',\n",
    "#  'Exogenous 1_hora_15_168',\n",
    "#  'Exogenous 1_hora_16_24',\n",
    "#  'Exogenous 1_hora_16_168',\n",
    "#  'Exogenous 1_hora_17_24',\n",
    "#  'Exogenous 1_hora_17_168',\n",
    "#  'Exogenous 1_hora_18_24',\n",
    "#  'Exogenous 1_hora_18_168',\n",
    "#  'Exogenous 1_hora_19_24',\n",
    "#  'Exogenous 1_hora_19_168',\n",
    "#  'Exogenous 1_hora_20_24',\n",
    "#  'Exogenous 1_hora_20_168',\n",
    "#  'Exogenous 1_hora_21_24',\n",
    "#  'Exogenous 1_hora_21_168',\n",
    "#  'Exogenous 1_hora_22_24',\n",
    "#  'Exogenous 1_hora_22_168',\n",
    "#  'Exogenous 1_hora_23_24',\n",
    "#  'Exogenous 1_hora_23_168',\n",
    "#  'Exogenous 2_hora_0_24',\n",
    "#  'Exogenous 2_hora_0_168',\n",
    "#  'Exogenous 2_hora_1_24',\n",
    "#  'Exogenous 2_hora_1_168',\n",
    "#  'Exogenous 2_hora_2_24',\n",
    "#  'Exogenous 2_hora_2_168',\n",
    "#  'Exogenous 2_hora_3_24',\n",
    "#  'Exogenous 2_hora_3_168',\n",
    "#  'Exogenous 2_hora_4_24',\n",
    "#  'Exogenous 2_hora_4_168',\n",
    "#  'Exogenous 2_hora_5_24',\n",
    "#  'Exogenous 2_hora_5_168',\n",
    "#  'Exogenous 2_hora_6_24',\n",
    "#  'Exogenous 2_hora_6_168',\n",
    "#  'Exogenous 2_hora_7_24',\n",
    "#  'Exogenous 2_hora_7_168',\n",
    "#  'Exogenous 2_hora_8_24',\n",
    "#  'Exogenous 2_hora_8_168',\n",
    "#  'Exogenous 2_hora_9_24',\n",
    "#  'Exogenous 2_hora_9_168',\n",
    "#  'Exogenous 2_hora_10_24',\n",
    "#  'Exogenous 2_hora_10_168',\n",
    "#  'Exogenous 2_hora_11_24',\n",
    "#  'Exogenous 2_hora_11_168',\n",
    "#  'Exogenous 2_hora_12_24',\n",
    "#  'Exogenous 2_hora_12_168',\n",
    "#  'Exogenous 2_hora_13_24',\n",
    "#  'Exogenous 2_hora_13_168',\n",
    "#  'Exogenous 2_hora_14_24',\n",
    "#  'Exogenous 2_hora_14_168',\n",
    "#  'Exogenous 2_hora_15_24',\n",
    "#  'Exogenous 2_hora_15_168',\n",
    "#  'Exogenous 2_hora_16_24',\n",
    "#  'Exogenous 2_hora_16_168',\n",
    "#  'Exogenous 2_hora_17_24',\n",
    "#  'Exogenous 2_hora_17_168',\n",
    "#  'Exogenous 2_hora_18_24',\n",
    "#  'Exogenous 2_hora_18_168',\n",
    "#  'Exogenous 2_hora_19_24',\n",
    "#  'Exogenous 2_hora_19_168',\n",
    "#  'Exogenous 2_hora_20_24',\n",
    "#  'Exogenous 2_hora_20_168',\n",
    "#  'Exogenous 2_hora_21_24',\n",
    "#  'Exogenous 2_hora_21_168',\n",
    "#  'Exogenous 2_hora_22_24',\n",
    "#  'Exogenous 2_hora_22_168',\n",
    "#  'Exogenous 2_hora_23_24',\n",
    "#  'Exogenous 2_hora_23_168'\n",
    "           ]\n",
    "\n",
    "# columnas_post = ['Monday', 'Tuesday', 'Wednesday', 'Thursday', 'Friday',\n",
    "#        'Saturday', 'Sunday']"
   ]
  },
  {
   "cell_type": "code",
   "execution_count": 20,
   "id": "11347670",
   "metadata": {
    "ExecuteTime": {
     "end_time": "2023-07-31T08:56:58.226288Z",
     "start_time": "2023-07-31T08:56:58.215140Z"
    }
   },
   "outputs": [],
   "source": [
    "def standard_movil(df):\n",
    "    columnas = list(df.columns)\n",
    "    dict_new_df = {col: [] for col in columnas}\n",
    "    columnas.remove('Date')\n",
    "    columnas.remove('Simple Date')\n",
    "    columnas.remove('Hour')\n",
    "    dict_new_df['scaler'] = []\n",
    "    dict_new_df['scaler_real'] = []\n",
    "    dict_new_df['Price_real'] = []\n",
    "    for index, row in tqdm(df.iterrows(), total=len(df)):\n",
    "        if index >= 168*1:\n",
    "            dict_new_df['Date'].append(row.Date)\n",
    "            dict_new_df['Simple Date'].append(row['Simple Date'])\n",
    "            dict_new_df['Hour'].append(row.Hour)\n",
    "            df_aux = df[(pd.to_datetime(df['Simple Date']) < pd.to_datetime(row['Simple Date'])) & (pd.to_datetime(df['Simple Date']) >= pd.to_datetime(row['Simple Date']) - dt.timedelta(days=7))]\n",
    "            for col in columnas:\n",
    "                df_aux_col = df_aux[col].to_numpy().reshape(-1, 1)\n",
    "                scaler = StandardScaler()\n",
    "                scaler.fit(df_aux_col)\n",
    "                if col == 'Price':\n",
    "                    dict_new_df['Price_real'].append(row[col])\n",
    "                    dict_new_df['scaler_real'].append(scaler)\n",
    "                elif col == 'Price_no_outliers':\n",
    "                    dict_new_df['scaler'].append(scaler)\n",
    "                dict_new_df[col].append(scaler.transform(np.array(row[col]).reshape(1, -1))[0][0])\n",
    "    return dict_new_df"
   ]
  },
  {
   "cell_type": "code",
   "execution_count": 21,
   "id": "5dee1534",
   "metadata": {
    "ExecuteTime": {
     "end_time": "2023-07-31T09:02:49.970102Z",
     "start_time": "2023-07-31T08:56:58.228342Z"
    }
   },
   "outputs": [
    {
     "name": "stderr",
     "output_type": "stream",
     "text": [
      "100%|████████████████████████████████████████████████████████████████████████████| 52416/52416 [16:57<00:00, 51.51it/s]\n"
     ]
    }
   ],
   "source": [
    "dict_new_df = standard_movil(df[columnas])"
   ]
  },
  {
   "cell_type": "code",
   "execution_count": 26,
   "id": "688bc192",
   "metadata": {
    "ExecuteTime": {
     "end_time": "2023-07-31T09:02:49.985016Z",
     "start_time": "2023-07-31T09:02:49.972017Z"
    }
   },
   "outputs": [],
   "source": [
    "# df = df.drop(df.head(168).index)"
   ]
  },
  {
   "cell_type": "code",
   "execution_count": 22,
   "id": "8b9056a8",
   "metadata": {
    "ExecuteTime": {
     "end_time": "2023-07-31T09:02:51.416605Z",
     "start_time": "2023-07-31T09:02:49.987016Z"
    }
   },
   "outputs": [],
   "source": [
    "with open('dict_new_df_de_epftoolbox_final_no_outliers.pkl', 'wb') as f:\n",
    "    pickle.dump(dict_new_df, f)"
   ]
  },
  {
   "cell_type": "code",
   "execution_count": 23,
   "id": "025a9427",
   "metadata": {
    "ExecuteTime": {
     "end_time": "2023-07-31T09:02:51.432486Z",
     "start_time": "2023-07-31T09:02:51.420749Z"
    }
   },
   "outputs": [],
   "source": [
    "# df = df.drop(df.head(168).index)"
   ]
  },
  {
   "cell_type": "code",
   "execution_count": 24,
   "id": "91fe19aa",
   "metadata": {
    "ExecuteTime": {
     "end_time": "2023-07-31T09:02:51.448006Z",
     "start_time": "2023-07-31T09:02:51.434467Z"
    }
   },
   "outputs": [],
   "source": [
    "# with open('dict_new_df_espana_epftoolbox_final_no_outliers.pkl', 'rb') as handle:\n",
    "#     dict_new_df = pickle.load(handle)"
   ]
  },
  {
   "cell_type": "code",
   "execution_count": 25,
   "id": "5d0736a9",
   "metadata": {
    "ExecuteTime": {
     "end_time": "2023-07-31T09:02:51.464055Z",
     "start_time": "2023-07-31T09:02:51.449315Z"
    }
   },
   "outputs": [
    {
     "name": "stdout",
     "output_type": "stream",
     "text": [
      "Date 52248\n",
      "Price 52248\n",
      "Price_no_outliers 52248\n",
      "Exogenous 1 52248\n",
      "Exogenous 2 52248\n",
      "Simple Date 52248\n",
      "Hour 52248\n",
      "scaler 52248\n",
      "scaler_real 52248\n",
      "Price_real 52248\n"
     ]
    }
   ],
   "source": [
    "for k, v in dict_new_df.items():\n",
    "    print(k, len(v))"
   ]
  },
  {
   "cell_type": "code",
   "execution_count": 26,
   "id": "324c8cd9",
   "metadata": {
    "ExecuteTime": {
     "end_time": "2023-07-31T09:02:51.617710Z",
     "start_time": "2023-07-31T09:02:51.465052Z"
    }
   },
   "outputs": [],
   "source": [
    "df_nuevo = pd.DataFrame(dict_new_df)"
   ]
  },
  {
   "cell_type": "code",
   "execution_count": 27,
   "id": "8fcf94ac",
   "metadata": {
    "ExecuteTime": {
     "end_time": "2023-07-31T09:02:51.649307Z",
     "start_time": "2023-07-31T09:02:51.618598Z"
    }
   },
   "outputs": [
    {
     "data": {
      "text/html": [
       "<div>\n",
       "<style scoped>\n",
       "    .dataframe tbody tr th:only-of-type {\n",
       "        vertical-align: middle;\n",
       "    }\n",
       "\n",
       "    .dataframe tbody tr th {\n",
       "        vertical-align: top;\n",
       "    }\n",
       "\n",
       "    .dataframe thead th {\n",
       "        text-align: right;\n",
       "    }\n",
       "</style>\n",
       "<table border=\"1\" class=\"dataframe\">\n",
       "  <thead>\n",
       "    <tr style=\"text-align: right;\">\n",
       "      <th></th>\n",
       "      <th>Date</th>\n",
       "      <th>Price</th>\n",
       "      <th>Price_no_outliers</th>\n",
       "      <th>Exogenous 1</th>\n",
       "      <th>Exogenous 2</th>\n",
       "      <th>Simple Date</th>\n",
       "      <th>Hour</th>\n",
       "      <th>scaler</th>\n",
       "      <th>scaler_real</th>\n",
       "      <th>Price_real</th>\n",
       "    </tr>\n",
       "  </thead>\n",
       "  <tbody>\n",
       "    <tr>\n",
       "      <th>0</th>\n",
       "      <td>2012-01-16 00:00:00</td>\n",
       "      <td>-0.132958</td>\n",
       "      <td>-0.132958</td>\n",
       "      <td>-1.232569</td>\n",
       "      <td>-1.335008</td>\n",
       "      <td>2012-01-16</td>\n",
       "      <td>0</td>\n",
       "      <td>StandardScaler()</td>\n",
       "      <td>StandardScaler()</td>\n",
       "      <td>41.94</td>\n",
       "    </tr>\n",
       "    <tr>\n",
       "      <th>1</th>\n",
       "      <td>2012-01-16 01:00:00</td>\n",
       "      <td>-0.356336</td>\n",
       "      <td>-0.356336</td>\n",
       "      <td>-1.234168</td>\n",
       "      <td>-1.524167</td>\n",
       "      <td>2012-01-16</td>\n",
       "      <td>1</td>\n",
       "      <td>StandardScaler()</td>\n",
       "      <td>StandardScaler()</td>\n",
       "      <td>39.69</td>\n",
       "    </tr>\n",
       "    <tr>\n",
       "      <th>2</th>\n",
       "      <td>2012-01-16 02:00:00</td>\n",
       "      <td>-0.524119</td>\n",
       "      <td>-0.524119</td>\n",
       "      <td>-1.225008</td>\n",
       "      <td>-1.578075</td>\n",
       "      <td>2012-01-16</td>\n",
       "      <td>2</td>\n",
       "      <td>StandardScaler()</td>\n",
       "      <td>StandardScaler()</td>\n",
       "      <td>38.00</td>\n",
       "    </tr>\n",
       "    <tr>\n",
       "      <th>3</th>\n",
       "      <td>2012-01-16 03:00:00</td>\n",
       "      <td>-0.962934</td>\n",
       "      <td>-0.962934</td>\n",
       "      <td>-1.217520</td>\n",
       "      <td>-1.516710</td>\n",
       "      <td>2012-01-16</td>\n",
       "      <td>3</td>\n",
       "      <td>StandardScaler()</td>\n",
       "      <td>StandardScaler()</td>\n",
       "      <td>33.58</td>\n",
       "    </tr>\n",
       "    <tr>\n",
       "      <th>4</th>\n",
       "      <td>2012-01-16 04:00:00</td>\n",
       "      <td>-0.973854</td>\n",
       "      <td>-0.973854</td>\n",
       "      <td>-1.215847</td>\n",
       "      <td>-1.427774</td>\n",
       "      <td>2012-01-16</td>\n",
       "      <td>4</td>\n",
       "      <td>StandardScaler()</td>\n",
       "      <td>StandardScaler()</td>\n",
       "      <td>33.47</td>\n",
       "    </tr>\n",
       "    <tr>\n",
       "      <th>...</th>\n",
       "      <td>...</td>\n",
       "      <td>...</td>\n",
       "      <td>...</td>\n",
       "      <td>...</td>\n",
       "      <td>...</td>\n",
       "      <td>...</td>\n",
       "      <td>...</td>\n",
       "      <td>...</td>\n",
       "      <td>...</td>\n",
       "      <td>...</td>\n",
       "    </tr>\n",
       "    <tr>\n",
       "      <th>52243</th>\n",
       "      <td>2017-12-31 19:00:00</td>\n",
       "      <td>-0.227012</td>\n",
       "      <td>-0.227012</td>\n",
       "      <td>1.163122</td>\n",
       "      <td>-0.581634</td>\n",
       "      <td>2017-12-31</td>\n",
       "      <td>19</td>\n",
       "      <td>StandardScaler()</td>\n",
       "      <td>StandardScaler()</td>\n",
       "      <td>7.92</td>\n",
       "    </tr>\n",
       "    <tr>\n",
       "      <th>52244</th>\n",
       "      <td>2017-12-31 20:00:00</td>\n",
       "      <td>-0.395554</td>\n",
       "      <td>-0.395554</td>\n",
       "      <td>1.038015</td>\n",
       "      <td>-0.798149</td>\n",
       "      <td>2017-12-31</td>\n",
       "      <td>20</td>\n",
       "      <td>StandardScaler()</td>\n",
       "      <td>StandardScaler()</td>\n",
       "      <td>4.06</td>\n",
       "    </tr>\n",
       "    <tr>\n",
       "      <th>52245</th>\n",
       "      <td>2017-12-31 21:00:00</td>\n",
       "      <td>-0.341411</td>\n",
       "      <td>-0.341411</td>\n",
       "      <td>0.981075</td>\n",
       "      <td>-0.889427</td>\n",
       "      <td>2017-12-31</td>\n",
       "      <td>21</td>\n",
       "      <td>StandardScaler()</td>\n",
       "      <td>StandardScaler()</td>\n",
       "      <td>5.30</td>\n",
       "    </tr>\n",
       "    <tr>\n",
       "      <th>52246</th>\n",
       "      <td>2017-12-31 22:00:00</td>\n",
       "      <td>-0.491614</td>\n",
       "      <td>-0.491614</td>\n",
       "      <td>1.004333</td>\n",
       "      <td>-0.833496</td>\n",
       "      <td>2017-12-31</td>\n",
       "      <td>22</td>\n",
       "      <td>StandardScaler()</td>\n",
       "      <td>StandardScaler()</td>\n",
       "      <td>1.86</td>\n",
       "    </tr>\n",
       "    <tr>\n",
       "      <th>52247</th>\n",
       "      <td>2017-12-31 23:00:00</td>\n",
       "      <td>-0.612999</td>\n",
       "      <td>-0.612999</td>\n",
       "      <td>1.069292</td>\n",
       "      <td>-1.092654</td>\n",
       "      <td>2017-12-31</td>\n",
       "      <td>23</td>\n",
       "      <td>StandardScaler()</td>\n",
       "      <td>StandardScaler()</td>\n",
       "      <td>-0.92</td>\n",
       "    </tr>\n",
       "  </tbody>\n",
       "</table>\n",
       "<p>52248 rows × 10 columns</p>\n",
       "</div>"
      ],
      "text/plain": [
       "                     Date     Price  Price_no_outliers  Exogenous 1  \\\n",
       "0     2012-01-16 00:00:00 -0.132958          -0.132958    -1.232569   \n",
       "1     2012-01-16 01:00:00 -0.356336          -0.356336    -1.234168   \n",
       "2     2012-01-16 02:00:00 -0.524119          -0.524119    -1.225008   \n",
       "3     2012-01-16 03:00:00 -0.962934          -0.962934    -1.217520   \n",
       "4     2012-01-16 04:00:00 -0.973854          -0.973854    -1.215847   \n",
       "...                   ...       ...                ...          ...   \n",
       "52243 2017-12-31 19:00:00 -0.227012          -0.227012     1.163122   \n",
       "52244 2017-12-31 20:00:00 -0.395554          -0.395554     1.038015   \n",
       "52245 2017-12-31 21:00:00 -0.341411          -0.341411     0.981075   \n",
       "52246 2017-12-31 22:00:00 -0.491614          -0.491614     1.004333   \n",
       "52247 2017-12-31 23:00:00 -0.612999          -0.612999     1.069292   \n",
       "\n",
       "       Exogenous 2 Simple Date  Hour            scaler       scaler_real  \\\n",
       "0        -1.335008  2012-01-16     0  StandardScaler()  StandardScaler()   \n",
       "1        -1.524167  2012-01-16     1  StandardScaler()  StandardScaler()   \n",
       "2        -1.578075  2012-01-16     2  StandardScaler()  StandardScaler()   \n",
       "3        -1.516710  2012-01-16     3  StandardScaler()  StandardScaler()   \n",
       "4        -1.427774  2012-01-16     4  StandardScaler()  StandardScaler()   \n",
       "...            ...         ...   ...               ...               ...   \n",
       "52243    -0.581634  2017-12-31    19  StandardScaler()  StandardScaler()   \n",
       "52244    -0.798149  2017-12-31    20  StandardScaler()  StandardScaler()   \n",
       "52245    -0.889427  2017-12-31    21  StandardScaler()  StandardScaler()   \n",
       "52246    -0.833496  2017-12-31    22  StandardScaler()  StandardScaler()   \n",
       "52247    -1.092654  2017-12-31    23  StandardScaler()  StandardScaler()   \n",
       "\n",
       "       Price_real  \n",
       "0           41.94  \n",
       "1           39.69  \n",
       "2           38.00  \n",
       "3           33.58  \n",
       "4           33.47  \n",
       "...           ...  \n",
       "52243        7.92  \n",
       "52244        4.06  \n",
       "52245        5.30  \n",
       "52246        1.86  \n",
       "52247       -0.92  \n",
       "\n",
       "[52248 rows x 10 columns]"
      ]
     },
     "execution_count": 27,
     "metadata": {},
     "output_type": "execute_result"
    }
   ],
   "source": [
    "df_nuevo"
   ]
  },
  {
   "cell_type": "code",
   "execution_count": 28,
   "id": "4ccf8d89",
   "metadata": {
    "ExecuteTime": {
     "end_time": "2023-07-31T09:02:51.665390Z",
     "start_time": "2023-07-31T09:02:51.651221Z"
    },
    "scrolled": true
   },
   "outputs": [],
   "source": [
    "# for col in columnas_post:\n",
    "#     df_nuevo[col] = df[col].to_numpy()"
   ]
  },
  {
   "cell_type": "code",
   "execution_count": 29,
   "id": "cec137fc",
   "metadata": {
    "ExecuteTime": {
     "end_time": "2023-07-31T09:02:51.742126Z",
     "start_time": "2023-07-31T09:02:51.668510Z"
    }
   },
   "outputs": [],
   "source": [
    "df_scalers = pd.DataFrame({'Date':dict_new_df['Date'], 'scaler':dict_new_df['scaler_real']})"
   ]
  },
  {
   "cell_type": "code",
   "execution_count": 30,
   "id": "63a51303",
   "metadata": {
    "ExecuteTime": {
     "end_time": "2023-07-31T09:02:51.757402Z",
     "start_time": "2023-07-31T09:02:51.743408Z"
    }
   },
   "outputs": [
    {
     "data": {
      "text/html": [
       "<div>\n",
       "<style scoped>\n",
       "    .dataframe tbody tr th:only-of-type {\n",
       "        vertical-align: middle;\n",
       "    }\n",
       "\n",
       "    .dataframe tbody tr th {\n",
       "        vertical-align: top;\n",
       "    }\n",
       "\n",
       "    .dataframe thead th {\n",
       "        text-align: right;\n",
       "    }\n",
       "</style>\n",
       "<table border=\"1\" class=\"dataframe\">\n",
       "  <thead>\n",
       "    <tr style=\"text-align: right;\">\n",
       "      <th></th>\n",
       "      <th>Date</th>\n",
       "      <th>scaler</th>\n",
       "    </tr>\n",
       "  </thead>\n",
       "  <tbody>\n",
       "    <tr>\n",
       "      <th>0</th>\n",
       "      <td>2012-01-16 00:00:00</td>\n",
       "      <td>StandardScaler()</td>\n",
       "    </tr>\n",
       "    <tr>\n",
       "      <th>1</th>\n",
       "      <td>2012-01-16 01:00:00</td>\n",
       "      <td>StandardScaler()</td>\n",
       "    </tr>\n",
       "    <tr>\n",
       "      <th>2</th>\n",
       "      <td>2012-01-16 02:00:00</td>\n",
       "      <td>StandardScaler()</td>\n",
       "    </tr>\n",
       "    <tr>\n",
       "      <th>3</th>\n",
       "      <td>2012-01-16 03:00:00</td>\n",
       "      <td>StandardScaler()</td>\n",
       "    </tr>\n",
       "    <tr>\n",
       "      <th>4</th>\n",
       "      <td>2012-01-16 04:00:00</td>\n",
       "      <td>StandardScaler()</td>\n",
       "    </tr>\n",
       "    <tr>\n",
       "      <th>...</th>\n",
       "      <td>...</td>\n",
       "      <td>...</td>\n",
       "    </tr>\n",
       "    <tr>\n",
       "      <th>52243</th>\n",
       "      <td>2017-12-31 19:00:00</td>\n",
       "      <td>StandardScaler()</td>\n",
       "    </tr>\n",
       "    <tr>\n",
       "      <th>52244</th>\n",
       "      <td>2017-12-31 20:00:00</td>\n",
       "      <td>StandardScaler()</td>\n",
       "    </tr>\n",
       "    <tr>\n",
       "      <th>52245</th>\n",
       "      <td>2017-12-31 21:00:00</td>\n",
       "      <td>StandardScaler()</td>\n",
       "    </tr>\n",
       "    <tr>\n",
       "      <th>52246</th>\n",
       "      <td>2017-12-31 22:00:00</td>\n",
       "      <td>StandardScaler()</td>\n",
       "    </tr>\n",
       "    <tr>\n",
       "      <th>52247</th>\n",
       "      <td>2017-12-31 23:00:00</td>\n",
       "      <td>StandardScaler()</td>\n",
       "    </tr>\n",
       "  </tbody>\n",
       "</table>\n",
       "<p>52248 rows × 2 columns</p>\n",
       "</div>"
      ],
      "text/plain": [
       "                     Date            scaler\n",
       "0     2012-01-16 00:00:00  StandardScaler()\n",
       "1     2012-01-16 01:00:00  StandardScaler()\n",
       "2     2012-01-16 02:00:00  StandardScaler()\n",
       "3     2012-01-16 03:00:00  StandardScaler()\n",
       "4     2012-01-16 04:00:00  StandardScaler()\n",
       "...                   ...               ...\n",
       "52243 2017-12-31 19:00:00  StandardScaler()\n",
       "52244 2017-12-31 20:00:00  StandardScaler()\n",
       "52245 2017-12-31 21:00:00  StandardScaler()\n",
       "52246 2017-12-31 22:00:00  StandardScaler()\n",
       "52247 2017-12-31 23:00:00  StandardScaler()\n",
       "\n",
       "[52248 rows x 2 columns]"
      ]
     },
     "execution_count": 30,
     "metadata": {},
     "output_type": "execute_result"
    }
   ],
   "source": [
    "df_scalers"
   ]
  },
  {
   "cell_type": "code",
   "execution_count": 31,
   "id": "37db4db4",
   "metadata": {
    "ExecuteTime": {
     "end_time": "2023-07-31T09:03:09.116294Z",
     "start_time": "2023-07-31T09:02:51.759404Z"
    }
   },
   "outputs": [],
   "source": [
    "df_nuevo['outlier'] = 0\n",
    "df_nuevo['Price_no_outliers'] = df_nuevo.Price\n",
    "for idx in df_nuevo.index:\n",
    "    date = df_nuevo.loc[idx, 'Date']\n",
    "    scaler = df_scalers[df_scalers.Date == date].scaler.values[0]\n",
    "    std = scaler.scale_[0]\n",
    "    mean = scaler.mean_[0]\n",
    "    price = df_nuevo.loc[idx, 'Price_real']\n",
    "    if price - mean > 3*std:\n",
    "        df_nuevo.loc[idx, 'Price_no_outliers'] = mean+3*std\n",
    "        df_nuevo.loc[idx, 'outlier'] = 1\n",
    "    elif price - mean < -3*std:\n",
    "        df_nuevo.loc[idx, 'Price_no_outliers'] = mean-3*std\n",
    "        df_nuevo.loc[idx, 'outlier'] = 1\n",
    "    else:\n",
    "        df_nuevo.loc[idx, 'Price_no_outliers'] = price"
   ]
  },
  {
   "cell_type": "code",
   "execution_count": 32,
   "id": "af6cd381",
   "metadata": {
    "ExecuteTime": {
     "end_time": "2023-07-31T09:03:09.132211Z",
     "start_time": "2023-07-31T09:03:09.118184Z"
    }
   },
   "outputs": [
    {
     "data": {
      "text/plain": [
       "0.01519675394273465"
      ]
     },
     "execution_count": 32,
     "metadata": {},
     "output_type": "execute_result"
    }
   ],
   "source": [
    "df_nuevo.outlier.sum() / len(df_nuevo)"
   ]
  },
  {
   "cell_type": "code",
   "execution_count": 33,
   "id": "0acc980a",
   "metadata": {
    "ExecuteTime": {
     "end_time": "2023-07-31T09:03:09.381699Z",
     "start_time": "2023-07-31T09:03:09.134186Z"
    }
   },
   "outputs": [
    {
     "data": {
      "image/png": "[encoded data removed]",
      "text/plain": [
       "<Figure size 1440x720 with 1 Axes>"
      ]
     },
     "metadata": {
      "needs_background": "light"
     },
     "output_type": "display_data"
    }
   ],
   "source": [
    "fig, ax = plt.subplots(1, 1, figsize=(20, 10))\n",
    "ax.plot(df_nuevo.Date, df_nuevo.Price_real)\n",
    "ax.plot(df_nuevo.Date, df_nuevo.Price_no_outliers)\n",
    "ax.grid()"
   ]
  },
  {
   "cell_type": "code",
   "execution_count": 34,
   "id": "f6a0cef3",
   "metadata": {
    "ExecuteTime": {
     "end_time": "2023-07-31T09:03:09.631267Z",
     "start_time": "2023-07-31T09:03:09.382581Z"
    }
   },
   "outputs": [
    {
     "data": {
      "image/png": "[encoded data removed]",
      "text/plain": [
       "<Figure size 1440x720 with 1 Axes>"
      ]
     },
     "metadata": {
      "needs_background": "light"
     },
     "output_type": "display_data"
    }
   ],
   "source": [
    "fig, ax = plt.subplots(1, 1, figsize=(20, 10))\n",
    "ax.plot(df_nuevo.Date, df_nuevo.Price_real)\n",
    "ax.scatter(df_nuevo[df_nuevo.outlier == 1].Date, df_nuevo[df_nuevo.outlier == 1].Price_real, c='r')\n",
    "ax.grid()"
   ]
  },
  {
   "cell_type": "code",
   "execution_count": 35,
   "id": "930b6220",
   "metadata": {
    "ExecuteTime": {
     "end_time": "2023-07-31T09:03:09.663426Z",
     "start_time": "2023-07-31T09:03:09.632330Z"
    }
   },
   "outputs": [
    {
     "data": {
      "text/html": [
       "<div>\n",
       "<style scoped>\n",
       "    .dataframe tbody tr th:only-of-type {\n",
       "        vertical-align: middle;\n",
       "    }\n",
       "\n",
       "    .dataframe tbody tr th {\n",
       "        vertical-align: top;\n",
       "    }\n",
       "\n",
       "    .dataframe thead th {\n",
       "        text-align: right;\n",
       "    }\n",
       "</style>\n",
       "<table border=\"1\" class=\"dataframe\">\n",
       "  <thead>\n",
       "    <tr style=\"text-align: right;\">\n",
       "      <th></th>\n",
       "      <th>Date</th>\n",
       "      <th>Price</th>\n",
       "      <th>Price_no_outliers</th>\n",
       "      <th>Exogenous 1</th>\n",
       "      <th>Exogenous 2</th>\n",
       "      <th>Simple Date</th>\n",
       "      <th>Hour</th>\n",
       "      <th>scaler</th>\n",
       "      <th>scaler_real</th>\n",
       "      <th>Price_real</th>\n",
       "      <th>outlier</th>\n",
       "    </tr>\n",
       "  </thead>\n",
       "  <tbody>\n",
       "    <tr>\n",
       "      <th>0</th>\n",
       "      <td>2012-01-16 00:00:00</td>\n",
       "      <td>-0.132958</td>\n",
       "      <td>41.94</td>\n",
       "      <td>-1.232569</td>\n",
       "      <td>-1.335008</td>\n",
       "      <td>2012-01-16</td>\n",
       "      <td>0</td>\n",
       "      <td>StandardScaler()</td>\n",
       "      <td>StandardScaler()</td>\n",
       "      <td>41.94</td>\n",
       "      <td>0</td>\n",
       "    </tr>\n",
       "    <tr>\n",
       "      <th>1</th>\n",
       "      <td>2012-01-16 01:00:00</td>\n",
       "      <td>-0.356336</td>\n",
       "      <td>39.69</td>\n",
       "      <td>-1.234168</td>\n",
       "      <td>-1.524167</td>\n",
       "      <td>2012-01-16</td>\n",
       "      <td>1</td>\n",
       "      <td>StandardScaler()</td>\n",
       "      <td>StandardScaler()</td>\n",
       "      <td>39.69</td>\n",
       "      <td>0</td>\n",
       "    </tr>\n",
       "    <tr>\n",
       "      <th>2</th>\n",
       "      <td>2012-01-16 02:00:00</td>\n",
       "      <td>-0.524119</td>\n",
       "      <td>38.00</td>\n",
       "      <td>-1.225008</td>\n",
       "      <td>-1.578075</td>\n",
       "      <td>2012-01-16</td>\n",
       "      <td>2</td>\n",
       "      <td>StandardScaler()</td>\n",
       "      <td>StandardScaler()</td>\n",
       "      <td>38.00</td>\n",
       "      <td>0</td>\n",
       "    </tr>\n",
       "    <tr>\n",
       "      <th>3</th>\n",
       "      <td>2012-01-16 03:00:00</td>\n",
       "      <td>-0.962934</td>\n",
       "      <td>33.58</td>\n",
       "      <td>-1.217520</td>\n",
       "      <td>-1.516710</td>\n",
       "      <td>2012-01-16</td>\n",
       "      <td>3</td>\n",
       "      <td>StandardScaler()</td>\n",
       "      <td>StandardScaler()</td>\n",
       "      <td>33.58</td>\n",
       "      <td>0</td>\n",
       "    </tr>\n",
       "    <tr>\n",
       "      <th>4</th>\n",
       "      <td>2012-01-16 04:00:00</td>\n",
       "      <td>-0.973854</td>\n",
       "      <td>33.47</td>\n",
       "      <td>-1.215847</td>\n",
       "      <td>-1.427774</td>\n",
       "      <td>2012-01-16</td>\n",
       "      <td>4</td>\n",
       "      <td>StandardScaler()</td>\n",
       "      <td>StandardScaler()</td>\n",
       "      <td>33.47</td>\n",
       "      <td>0</td>\n",
       "    </tr>\n",
       "    <tr>\n",
       "      <th>...</th>\n",
       "      <td>...</td>\n",
       "      <td>...</td>\n",
       "      <td>...</td>\n",
       "      <td>...</td>\n",
       "      <td>...</td>\n",
       "      <td>...</td>\n",
       "      <td>...</td>\n",
       "      <td>...</td>\n",
       "      <td>...</td>\n",
       "      <td>...</td>\n",
       "      <td>...</td>\n",
       "    </tr>\n",
       "    <tr>\n",
       "      <th>52243</th>\n",
       "      <td>2017-12-31 19:00:00</td>\n",
       "      <td>-0.227012</td>\n",
       "      <td>7.92</td>\n",
       "      <td>1.163122</td>\n",
       "      <td>-0.581634</td>\n",
       "      <td>2017-12-31</td>\n",
       "      <td>19</td>\n",
       "      <td>StandardScaler()</td>\n",
       "      <td>StandardScaler()</td>\n",
       "      <td>7.92</td>\n",
       "      <td>0</td>\n",
       "    </tr>\n",
       "    <tr>\n",
       "      <th>52244</th>\n",
       "      <td>2017-12-31 20:00:00</td>\n",
       "      <td>-0.395554</td>\n",
       "      <td>4.06</td>\n",
       "      <td>1.038015</td>\n",
       "      <td>-0.798149</td>\n",
       "      <td>2017-12-31</td>\n",
       "      <td>20</td>\n",
       "      <td>StandardScaler()</td>\n",
       "      <td>StandardScaler()</td>\n",
       "      <td>4.06</td>\n",
       "      <td>0</td>\n",
       "    </tr>\n",
       "    <tr>\n",
       "      <th>52245</th>\n",
       "      <td>2017-12-31 21:00:00</td>\n",
       "      <td>-0.341411</td>\n",
       "      <td>5.30</td>\n",
       "      <td>0.981075</td>\n",
       "      <td>-0.889427</td>\n",
       "      <td>2017-12-31</td>\n",
       "      <td>21</td>\n",
       "      <td>StandardScaler()</td>\n",
       "      <td>StandardScaler()</td>\n",
       "      <td>5.30</td>\n",
       "      <td>0</td>\n",
       "    </tr>\n",
       "    <tr>\n",
       "      <th>52246</th>\n",
       "      <td>2017-12-31 22:00:00</td>\n",
       "      <td>-0.491614</td>\n",
       "      <td>1.86</td>\n",
       "      <td>1.004333</td>\n",
       "      <td>-0.833496</td>\n",
       "      <td>2017-12-31</td>\n",
       "      <td>22</td>\n",
       "      <td>StandardScaler()</td>\n",
       "      <td>StandardScaler()</td>\n",
       "      <td>1.86</td>\n",
       "      <td>0</td>\n",
       "    </tr>\n",
       "    <tr>\n",
       "      <th>52247</th>\n",
       "      <td>2017-12-31 23:00:00</td>\n",
       "      <td>-0.612999</td>\n",
       "      <td>-0.92</td>\n",
       "      <td>1.069292</td>\n",
       "      <td>-1.092654</td>\n",
       "      <td>2017-12-31</td>\n",
       "      <td>23</td>\n",
       "      <td>StandardScaler()</td>\n",
       "      <td>StandardScaler()</td>\n",
       "      <td>-0.92</td>\n",
       "      <td>0</td>\n",
       "    </tr>\n",
       "  </tbody>\n",
       "</table>\n",
       "<p>52248 rows × 11 columns</p>\n",
       "</div>"
      ],
      "text/plain": [
       "                     Date     Price  Price_no_outliers  Exogenous 1  \\\n",
       "0     2012-01-16 00:00:00 -0.132958              41.94    -1.232569   \n",
       "1     2012-01-16 01:00:00 -0.356336              39.69    -1.234168   \n",
       "2     2012-01-16 02:00:00 -0.524119              38.00    -1.225008   \n",
       "3     2012-01-16 03:00:00 -0.962934              33.58    -1.217520   \n",
       "4     2012-01-16 04:00:00 -0.973854              33.47    -1.215847   \n",
       "...                   ...       ...                ...          ...   \n",
       "52243 2017-12-31 19:00:00 -0.227012               7.92     1.163122   \n",
       "52244 2017-12-31 20:00:00 -0.395554               4.06     1.038015   \n",
       "52245 2017-12-31 21:00:00 -0.341411               5.30     0.981075   \n",
       "52246 2017-12-31 22:00:00 -0.491614               1.86     1.004333   \n",
       "52247 2017-12-31 23:00:00 -0.612999              -0.92     1.069292   \n",
       "\n",
       "       Exogenous 2 Simple Date  Hour            scaler       scaler_real  \\\n",
       "0        -1.335008  2012-01-16     0  StandardScaler()  StandardScaler()   \n",
       "1        -1.524167  2012-01-16     1  StandardScaler()  StandardScaler()   \n",
       "2        -1.578075  2012-01-16     2  StandardScaler()  StandardScaler()   \n",
       "3        -1.516710  2012-01-16     3  StandardScaler()  StandardScaler()   \n",
       "4        -1.427774  2012-01-16     4  StandardScaler()  StandardScaler()   \n",
       "...            ...         ...   ...               ...               ...   \n",
       "52243    -0.581634  2017-12-31    19  StandardScaler()  StandardScaler()   \n",
       "52244    -0.798149  2017-12-31    20  StandardScaler()  StandardScaler()   \n",
       "52245    -0.889427  2017-12-31    21  StandardScaler()  StandardScaler()   \n",
       "52246    -0.833496  2017-12-31    22  StandardScaler()  StandardScaler()   \n",
       "52247    -1.092654  2017-12-31    23  StandardScaler()  StandardScaler()   \n",
       "\n",
       "       Price_real  outlier  \n",
       "0           41.94        0  \n",
       "1           39.69        0  \n",
       "2           38.00        0  \n",
       "3           33.58        0  \n",
       "4           33.47        0  \n",
       "...           ...      ...  \n",
       "52243        7.92        0  \n",
       "52244        4.06        0  \n",
       "52245        5.30        0  \n",
       "52246        1.86        0  \n",
       "52247       -0.92        0  \n",
       "\n",
       "[52248 rows x 11 columns]"
      ]
     },
     "execution_count": 35,
     "metadata": {},
     "output_type": "execute_result"
    }
   ],
   "source": [
    "df_nuevo"
   ]
  },
  {
   "cell_type": "code",
   "execution_count": 36,
   "id": "e83feaf9",
   "metadata": {
    "ExecuteTime": {
     "end_time": "2023-07-31T09:03:09.679366Z",
     "start_time": "2023-07-31T09:03:09.665329Z"
    }
   },
   "outputs": [],
   "source": [
    "df_nuevo = df_nuevo[['Date', 'Price_real', 'Price_no_outliers', 'Exogenous 1', 'Exogenous 2', 'Simple Date', 'Hour']].rename(columns={'Price_real':'Price'})"
   ]
  },
  {
   "cell_type": "code",
   "execution_count": 37,
   "id": "16ba5a65",
   "metadata": {
    "ExecuteTime": {
     "end_time": "2023-07-31T09:03:09.695367Z",
     "start_time": "2023-07-31T09:03:09.681328Z"
    }
   },
   "outputs": [],
   "source": [
    "df_nuevo['Exogenous 1'] = df['Exogenous 1']\n",
    "df_nuevo['Exogenous 2'] = df['Exogenous 2']"
   ]
  },
  {
   "cell_type": "code",
   "execution_count": 38,
   "id": "0c794e38",
   "metadata": {
    "ExecuteTime": {
     "end_time": "2023-07-31T09:03:09.711377Z",
     "start_time": "2023-07-31T09:03:09.696374Z"
    }
   },
   "outputs": [
    {
     "data": {
      "text/html": [
       "<div>\n",
       "<style scoped>\n",
       "    .dataframe tbody tr th:only-of-type {\n",
       "        vertical-align: middle;\n",
       "    }\n",
       "\n",
       "    .dataframe tbody tr th {\n",
       "        vertical-align: top;\n",
       "    }\n",
       "\n",
       "    .dataframe thead th {\n",
       "        text-align: right;\n",
       "    }\n",
       "</style>\n",
       "<table border=\"1\" class=\"dataframe\">\n",
       "  <thead>\n",
       "    <tr style=\"text-align: right;\">\n",
       "      <th></th>\n",
       "      <th>Date</th>\n",
       "      <th>Price</th>\n",
       "      <th>Price_no_outliers</th>\n",
       "      <th>Exogenous 1</th>\n",
       "      <th>Exogenous 2</th>\n",
       "      <th>Simple Date</th>\n",
       "      <th>Hour</th>\n",
       "    </tr>\n",
       "  </thead>\n",
       "  <tbody>\n",
       "    <tr>\n",
       "      <th>0</th>\n",
       "      <td>2012-01-16 00:00:00</td>\n",
       "      <td>41.94</td>\n",
       "      <td>41.94</td>\n",
       "      <td>2072.00</td>\n",
       "      <td>16382.00</td>\n",
       "      <td>2012-01-16</td>\n",
       "      <td>0</td>\n",
       "    </tr>\n",
       "    <tr>\n",
       "      <th>1</th>\n",
       "      <td>2012-01-16 01:00:00</td>\n",
       "      <td>39.69</td>\n",
       "      <td>39.69</td>\n",
       "      <td>1929.75</td>\n",
       "      <td>15410.50</td>\n",
       "      <td>2012-01-16</td>\n",
       "      <td>1</td>\n",
       "    </tr>\n",
       "    <tr>\n",
       "      <th>2</th>\n",
       "      <td>2012-01-16 02:00:00</td>\n",
       "      <td>38.00</td>\n",
       "      <td>38.00</td>\n",
       "      <td>1856.00</td>\n",
       "      <td>15595.00</td>\n",
       "      <td>2012-01-16</td>\n",
       "      <td>2</td>\n",
       "    </tr>\n",
       "    <tr>\n",
       "      <th>3</th>\n",
       "      <td>2012-01-16 03:00:00</td>\n",
       "      <td>33.58</td>\n",
       "      <td>33.58</td>\n",
       "      <td>1808.75</td>\n",
       "      <td>16521.00</td>\n",
       "      <td>2012-01-16</td>\n",
       "      <td>3</td>\n",
       "    </tr>\n",
       "    <tr>\n",
       "      <th>4</th>\n",
       "      <td>2012-01-16 04:00:00</td>\n",
       "      <td>33.47</td>\n",
       "      <td>33.47</td>\n",
       "      <td>1765.75</td>\n",
       "      <td>17700.75</td>\n",
       "      <td>2012-01-16</td>\n",
       "      <td>4</td>\n",
       "    </tr>\n",
       "    <tr>\n",
       "      <th>...</th>\n",
       "      <td>...</td>\n",
       "      <td>...</td>\n",
       "      <td>...</td>\n",
       "      <td>...</td>\n",
       "      <td>...</td>\n",
       "      <td>...</td>\n",
       "      <td>...</td>\n",
       "    </tr>\n",
       "    <tr>\n",
       "      <th>52243</th>\n",
       "      <td>2017-12-31 19:00:00</td>\n",
       "      <td>7.92</td>\n",
       "      <td>7.92</td>\n",
       "      <td>1286.25</td>\n",
       "      <td>19232.00</td>\n",
       "      <td>2017-12-31</td>\n",
       "      <td>19</td>\n",
       "    </tr>\n",
       "    <tr>\n",
       "      <th>52244</th>\n",
       "      <td>2017-12-31 20:00:00</td>\n",
       "      <td>4.06</td>\n",
       "      <td>4.06</td>\n",
       "      <td>1265.50</td>\n",
       "      <td>18533.50</td>\n",
       "      <td>2017-12-31</td>\n",
       "      <td>20</td>\n",
       "    </tr>\n",
       "    <tr>\n",
       "      <th>52245</th>\n",
       "      <td>2017-12-31 21:00:00</td>\n",
       "      <td>5.30</td>\n",
       "      <td>5.30</td>\n",
       "      <td>1236.00</td>\n",
       "      <td>18048.50</td>\n",
       "      <td>2017-12-31</td>\n",
       "      <td>21</td>\n",
       "    </tr>\n",
       "    <tr>\n",
       "      <th>52246</th>\n",
       "      <td>2017-12-31 22:00:00</td>\n",
       "      <td>1.86</td>\n",
       "      <td>1.86</td>\n",
       "      <td>1194.50</td>\n",
       "      <td>17984.25</td>\n",
       "      <td>2017-12-31</td>\n",
       "      <td>22</td>\n",
       "    </tr>\n",
       "    <tr>\n",
       "      <th>52247</th>\n",
       "      <td>2017-12-31 23:00:00</td>\n",
       "      <td>-0.92</td>\n",
       "      <td>-0.92</td>\n",
       "      <td>1150.00</td>\n",
       "      <td>17130.25</td>\n",
       "      <td>2017-12-31</td>\n",
       "      <td>23</td>\n",
       "    </tr>\n",
       "  </tbody>\n",
       "</table>\n",
       "<p>52248 rows × 7 columns</p>\n",
       "</div>"
      ],
      "text/plain": [
       "                     Date  Price  Price_no_outliers  Exogenous 1  Exogenous 2  \\\n",
       "0     2012-01-16 00:00:00  41.94              41.94      2072.00     16382.00   \n",
       "1     2012-01-16 01:00:00  39.69              39.69      1929.75     15410.50   \n",
       "2     2012-01-16 02:00:00  38.00              38.00      1856.00     15595.00   \n",
       "3     2012-01-16 03:00:00  33.58              33.58      1808.75     16521.00   \n",
       "4     2012-01-16 04:00:00  33.47              33.47      1765.75     17700.75   \n",
       "...                   ...    ...                ...          ...          ...   \n",
       "52243 2017-12-31 19:00:00   7.92               7.92      1286.25     19232.00   \n",
       "52244 2017-12-31 20:00:00   4.06               4.06      1265.50     18533.50   \n",
       "52245 2017-12-31 21:00:00   5.30               5.30      1236.00     18048.50   \n",
       "52246 2017-12-31 22:00:00   1.86               1.86      1194.50     17984.25   \n",
       "52247 2017-12-31 23:00:00  -0.92              -0.92      1150.00     17130.25   \n",
       "\n",
       "      Simple Date  Hour  \n",
       "0      2012-01-16     0  \n",
       "1      2012-01-16     1  \n",
       "2      2012-01-16     2  \n",
       "3      2012-01-16     3  \n",
       "4      2012-01-16     4  \n",
       "...           ...   ...  \n",
       "52243  2017-12-31    19  \n",
       "52244  2017-12-31    20  \n",
       "52245  2017-12-31    21  \n",
       "52246  2017-12-31    22  \n",
       "52247  2017-12-31    23  \n",
       "\n",
       "[52248 rows x 7 columns]"
      ]
     },
     "execution_count": 38,
     "metadata": {},
     "output_type": "execute_result"
    }
   ],
   "source": [
    "df_nuevo"
   ]
  },
  {
   "cell_type": "code",
   "execution_count": 39,
   "id": "71e74ee0",
   "metadata": {
    "ExecuteTime": {
     "end_time": "2023-07-31T09:09:14.792972Z",
     "start_time": "2023-07-31T09:03:09.713377Z"
    }
   },
   "outputs": [
    {
     "name": "stderr",
     "output_type": "stream",
     "text": [
      "100%|████████████████████████████████████████████████████████████████████████████| 52248/52248 [16:33<00:00, 52.58it/s]\n"
     ]
    }
   ],
   "source": [
    "dict_new_df = standard_movil(df_nuevo[columnas])"
   ]
  },
  {
   "cell_type": "code",
   "execution_count": 40,
   "id": "b82fd480",
   "metadata": {
    "ExecuteTime": {
     "end_time": "2023-07-31T09:09:14.808130Z",
     "start_time": "2023-07-31T09:09:14.794983Z"
    }
   },
   "outputs": [],
   "source": [
    "# df_nuevo = df_nuevo.drop(df_nuevo.head(168).index)"
   ]
  },
  {
   "cell_type": "code",
   "execution_count": 41,
   "id": "2c6e8079",
   "metadata": {
    "ExecuteTime": {
     "end_time": "2023-07-31T09:09:16.402839Z",
     "start_time": "2023-07-31T09:09:14.810057Z"
    }
   },
   "outputs": [],
   "source": [
    "with open('dict_new_df_de_epftoolbox_final_no_outliers.pkl', 'wb') as f:\n",
    "    pickle.dump(dict_new_df, f)"
   ]
  },
  {
   "cell_type": "code",
   "execution_count": 42,
   "id": "3849b841",
   "metadata": {
    "ExecuteTime": {
     "end_time": "2023-07-31T09:09:16.418784Z",
     "start_time": "2023-07-31T09:09:16.404693Z"
    }
   },
   "outputs": [],
   "source": [
    "# df = df.drop(df.head(168).index)"
   ]
  },
  {
   "cell_type": "code",
   "execution_count": 43,
   "id": "51ce6ad1",
   "metadata": {
    "ExecuteTime": {
     "end_time": "2023-07-31T09:09:16.434694Z",
     "start_time": "2023-07-31T09:09:16.419695Z"
    }
   },
   "outputs": [],
   "source": [
    "# with open('dict_new_df_espana_epftoolbox_final_no_outliers.pkl', 'rb') as handle:\n",
    "#     dict_new_df = pickle.load(handle)"
   ]
  },
  {
   "cell_type": "code",
   "execution_count": 44,
   "id": "bdbf0491",
   "metadata": {
    "ExecuteTime": {
     "end_time": "2023-07-31T09:09:16.450800Z",
     "start_time": "2023-07-31T09:09:16.435781Z"
    }
   },
   "outputs": [
    {
     "name": "stdout",
     "output_type": "stream",
     "text": [
      "Date 52080\n",
      "Price 52080\n",
      "Price_no_outliers 52080\n",
      "Exogenous 1 52080\n",
      "Exogenous 2 52080\n",
      "Simple Date 52080\n",
      "Hour 52080\n",
      "scaler 52080\n",
      "scaler_real 52080\n",
      "Price_real 52080\n"
     ]
    }
   ],
   "source": [
    "for k, v in dict_new_df.items():\n",
    "    print(k, len(v))"
   ]
  },
  {
   "cell_type": "code",
   "execution_count": 45,
   "id": "5c456f40",
   "metadata": {
    "ExecuteTime": {
     "end_time": "2023-07-31T09:09:16.592537Z",
     "start_time": "2023-07-31T09:09:16.451803Z"
    }
   },
   "outputs": [],
   "source": [
    "df_nuevo = pd.DataFrame(dict_new_df)"
   ]
  },
  {
   "cell_type": "code",
   "execution_count": 46,
   "id": "ec0cb476",
   "metadata": {
    "ExecuteTime": {
     "end_time": "2023-07-31T09:09:16.624541Z",
     "start_time": "2023-07-31T09:09:16.594463Z"
    }
   },
   "outputs": [
    {
     "data": {
      "text/html": [
       "<div>\n",
       "<style scoped>\n",
       "    .dataframe tbody tr th:only-of-type {\n",
       "        vertical-align: middle;\n",
       "    }\n",
       "\n",
       "    .dataframe tbody tr th {\n",
       "        vertical-align: top;\n",
       "    }\n",
       "\n",
       "    .dataframe thead th {\n",
       "        text-align: right;\n",
       "    }\n",
       "</style>\n",
       "<table border=\"1\" class=\"dataframe\">\n",
       "  <thead>\n",
       "    <tr style=\"text-align: right;\">\n",
       "      <th></th>\n",
       "      <th>Date</th>\n",
       "      <th>Price</th>\n",
       "      <th>Price_no_outliers</th>\n",
       "      <th>Exogenous 1</th>\n",
       "      <th>Exogenous 2</th>\n",
       "      <th>Simple Date</th>\n",
       "      <th>Hour</th>\n",
       "      <th>scaler</th>\n",
       "      <th>scaler_real</th>\n",
       "      <th>Price_real</th>\n",
       "    </tr>\n",
       "  </thead>\n",
       "  <tbody>\n",
       "    <tr>\n",
       "      <th>0</th>\n",
       "      <td>2012-01-23 00:00:00</td>\n",
       "      <td>-0.489312</td>\n",
       "      <td>-0.907496</td>\n",
       "      <td>-1.232569</td>\n",
       "      <td>-1.335008</td>\n",
       "      <td>2012-01-23</td>\n",
       "      <td>0</td>\n",
       "      <td>StandardScaler()</td>\n",
       "      <td>StandardScaler()</td>\n",
       "      <td>31.97</td>\n",
       "    </tr>\n",
       "    <tr>\n",
       "      <th>1</th>\n",
       "      <td>2012-01-23 01:00:00</td>\n",
       "      <td>-0.526256</td>\n",
       "      <td>-0.964839</td>\n",
       "      <td>-1.234168</td>\n",
       "      <td>-1.524167</td>\n",
       "      <td>2012-01-23</td>\n",
       "      <td>1</td>\n",
       "      <td>StandardScaler()</td>\n",
       "      <td>StandardScaler()</td>\n",
       "      <td>31.32</td>\n",
       "    </tr>\n",
       "    <tr>\n",
       "      <th>2</th>\n",
       "      <td>2012-01-23 02:00:00</td>\n",
       "      <td>-0.547285</td>\n",
       "      <td>-0.997481</td>\n",
       "      <td>-1.225008</td>\n",
       "      <td>-1.578075</td>\n",
       "      <td>2012-01-23</td>\n",
       "      <td>2</td>\n",
       "      <td>StandardScaler()</td>\n",
       "      <td>StandardScaler()</td>\n",
       "      <td>30.95</td>\n",
       "    </tr>\n",
       "    <tr>\n",
       "      <th>3</th>\n",
       "      <td>2012-01-23 03:00:00</td>\n",
       "      <td>-0.712678</td>\n",
       "      <td>-1.254202</td>\n",
       "      <td>-1.217520</td>\n",
       "      <td>-1.516710</td>\n",
       "      <td>2012-01-23</td>\n",
       "      <td>3</td>\n",
       "      <td>StandardScaler()</td>\n",
       "      <td>StandardScaler()</td>\n",
       "      <td>28.04</td>\n",
       "    </tr>\n",
       "    <tr>\n",
       "      <th>4</th>\n",
       "      <td>2012-01-23 04:00:00</td>\n",
       "      <td>-0.713815</td>\n",
       "      <td>-1.255967</td>\n",
       "      <td>-1.215847</td>\n",
       "      <td>-1.427774</td>\n",
       "      <td>2012-01-23</td>\n",
       "      <td>4</td>\n",
       "      <td>StandardScaler()</td>\n",
       "      <td>StandardScaler()</td>\n",
       "      <td>28.02</td>\n",
       "    </tr>\n",
       "    <tr>\n",
       "      <th>...</th>\n",
       "      <td>...</td>\n",
       "      <td>...</td>\n",
       "      <td>...</td>\n",
       "      <td>...</td>\n",
       "      <td>...</td>\n",
       "      <td>...</td>\n",
       "      <td>...</td>\n",
       "      <td>...</td>\n",
       "      <td>...</td>\n",
       "      <td>...</td>\n",
       "    </tr>\n",
       "    <tr>\n",
       "      <th>52075</th>\n",
       "      <td>2017-12-31 19:00:00</td>\n",
       "      <td>-0.227012</td>\n",
       "      <td>-0.311516</td>\n",
       "      <td>2.778785</td>\n",
       "      <td>-0.934772</td>\n",
       "      <td>2017-12-31</td>\n",
       "      <td>19</td>\n",
       "      <td>StandardScaler()</td>\n",
       "      <td>StandardScaler()</td>\n",
       "      <td>7.92</td>\n",
       "    </tr>\n",
       "    <tr>\n",
       "      <th>52076</th>\n",
       "      <td>2017-12-31 20:00:00</td>\n",
       "      <td>-0.395554</td>\n",
       "      <td>-0.500678</td>\n",
       "      <td>2.716505</td>\n",
       "      <td>-1.157646</td>\n",
       "      <td>2017-12-31</td>\n",
       "      <td>20</td>\n",
       "      <td>StandardScaler()</td>\n",
       "      <td>StandardScaler()</td>\n",
       "      <td>4.06</td>\n",
       "    </tr>\n",
       "    <tr>\n",
       "      <th>52077</th>\n",
       "      <td>2017-12-31 21:00:00</td>\n",
       "      <td>-0.341411</td>\n",
       "      <td>-0.439911</td>\n",
       "      <td>2.627962</td>\n",
       "      <td>-1.312398</td>\n",
       "      <td>2017-12-31</td>\n",
       "      <td>21</td>\n",
       "      <td>StandardScaler()</td>\n",
       "      <td>StandardScaler()</td>\n",
       "      <td>5.30</td>\n",
       "    </tr>\n",
       "    <tr>\n",
       "      <th>52078</th>\n",
       "      <td>2017-12-31 22:00:00</td>\n",
       "      <td>-0.491614</td>\n",
       "      <td>-0.608491</td>\n",
       "      <td>2.503401</td>\n",
       "      <td>-1.332899</td>\n",
       "      <td>2017-12-31</td>\n",
       "      <td>22</td>\n",
       "      <td>StandardScaler()</td>\n",
       "      <td>StandardScaler()</td>\n",
       "      <td>1.86</td>\n",
       "    </tr>\n",
       "    <tr>\n",
       "      <th>52079</th>\n",
       "      <td>2017-12-31 23:00:00</td>\n",
       "      <td>-0.612999</td>\n",
       "      <td>-0.744727</td>\n",
       "      <td>2.369836</td>\n",
       "      <td>-1.605389</td>\n",
       "      <td>2017-12-31</td>\n",
       "      <td>23</td>\n",
       "      <td>StandardScaler()</td>\n",
       "      <td>StandardScaler()</td>\n",
       "      <td>-0.92</td>\n",
       "    </tr>\n",
       "  </tbody>\n",
       "</table>\n",
       "<p>52080 rows × 10 columns</p>\n",
       "</div>"
      ],
      "text/plain": [
       "                     Date     Price  Price_no_outliers  Exogenous 1  \\\n",
       "0     2012-01-23 00:00:00 -0.489312          -0.907496    -1.232569   \n",
       "1     2012-01-23 01:00:00 -0.526256          -0.964839    -1.234168   \n",
       "2     2012-01-23 02:00:00 -0.547285          -0.997481    -1.225008   \n",
       "3     2012-01-23 03:00:00 -0.712678          -1.254202    -1.217520   \n",
       "4     2012-01-23 04:00:00 -0.713815          -1.255967    -1.215847   \n",
       "...                   ...       ...                ...          ...   \n",
       "52075 2017-12-31 19:00:00 -0.227012          -0.311516     2.778785   \n",
       "52076 2017-12-31 20:00:00 -0.395554          -0.500678     2.716505   \n",
       "52077 2017-12-31 21:00:00 -0.341411          -0.439911     2.627962   \n",
       "52078 2017-12-31 22:00:00 -0.491614          -0.608491     2.503401   \n",
       "52079 2017-12-31 23:00:00 -0.612999          -0.744727     2.369836   \n",
       "\n",
       "       Exogenous 2 Simple Date  Hour            scaler       scaler_real  \\\n",
       "0        -1.335008  2012-01-23     0  StandardScaler()  StandardScaler()   \n",
       "1        -1.524167  2012-01-23     1  StandardScaler()  StandardScaler()   \n",
       "2        -1.578075  2012-01-23     2  StandardScaler()  StandardScaler()   \n",
       "3        -1.516710  2012-01-23     3  StandardScaler()  StandardScaler()   \n",
       "4        -1.427774  2012-01-23     4  StandardScaler()  StandardScaler()   \n",
       "...            ...         ...   ...               ...               ...   \n",
       "52075    -0.934772  2017-12-31    19  StandardScaler()  StandardScaler()   \n",
       "52076    -1.157646  2017-12-31    20  StandardScaler()  StandardScaler()   \n",
       "52077    -1.312398  2017-12-31    21  StandardScaler()  StandardScaler()   \n",
       "52078    -1.332899  2017-12-31    22  StandardScaler()  StandardScaler()   \n",
       "52079    -1.605389  2017-12-31    23  StandardScaler()  StandardScaler()   \n",
       "\n",
       "       Price_real  \n",
       "0           31.97  \n",
       "1           31.32  \n",
       "2           30.95  \n",
       "3           28.04  \n",
       "4           28.02  \n",
       "...           ...  \n",
       "52075        7.92  \n",
       "52076        4.06  \n",
       "52077        5.30  \n",
       "52078        1.86  \n",
       "52079       -0.92  \n",
       "\n",
       "[52080 rows x 10 columns]"
      ]
     },
     "execution_count": 46,
     "metadata": {},
     "output_type": "execute_result"
    }
   ],
   "source": [
    "df_nuevo"
   ]
  },
  {
   "cell_type": "code",
   "execution_count": 47,
   "id": "c931185d",
   "metadata": {
    "ExecuteTime": {
     "end_time": "2023-07-31T09:09:16.640554Z",
     "start_time": "2023-07-31T09:09:16.627460Z"
    },
    "scrolled": true
   },
   "outputs": [],
   "source": [
    "# for col in columnas_post:\n",
    "#     df_nuevo[col] = df[col].to_numpy()"
   ]
  },
  {
   "cell_type": "code",
   "execution_count": 48,
   "id": "e5a43f46",
   "metadata": {
    "ExecuteTime": {
     "end_time": "2023-07-31T09:09:16.716921Z",
     "start_time": "2023-07-31T09:09:16.643459Z"
    }
   },
   "outputs": [],
   "source": [
    "df_scalers = pd.DataFrame({'Date':dict_new_df['Date'], 'scaler':dict_new_df['scaler']})"
   ]
  },
  {
   "cell_type": "code",
   "execution_count": 49,
   "id": "f075f656",
   "metadata": {
    "ExecuteTime": {
     "end_time": "2023-07-31T09:09:16.732826Z",
     "start_time": "2023-07-31T09:09:16.718717Z"
    }
   },
   "outputs": [
    {
     "data": {
      "text/html": [
       "<div>\n",
       "<style scoped>\n",
       "    .dataframe tbody tr th:only-of-type {\n",
       "        vertical-align: middle;\n",
       "    }\n",
       "\n",
       "    .dataframe tbody tr th {\n",
       "        vertical-align: top;\n",
       "    }\n",
       "\n",
       "    .dataframe thead th {\n",
       "        text-align: right;\n",
       "    }\n",
       "</style>\n",
       "<table border=\"1\" class=\"dataframe\">\n",
       "  <thead>\n",
       "    <tr style=\"text-align: right;\">\n",
       "      <th></th>\n",
       "      <th>Date</th>\n",
       "      <th>scaler</th>\n",
       "    </tr>\n",
       "  </thead>\n",
       "  <tbody>\n",
       "    <tr>\n",
       "      <th>0</th>\n",
       "      <td>2012-01-23 00:00:00</td>\n",
       "      <td>StandardScaler()</td>\n",
       "    </tr>\n",
       "    <tr>\n",
       "      <th>1</th>\n",
       "      <td>2012-01-23 01:00:00</td>\n",
       "      <td>StandardScaler()</td>\n",
       "    </tr>\n",
       "    <tr>\n",
       "      <th>2</th>\n",
       "      <td>2012-01-23 02:00:00</td>\n",
       "      <td>StandardScaler()</td>\n",
       "    </tr>\n",
       "    <tr>\n",
       "      <th>3</th>\n",
       "      <td>2012-01-23 03:00:00</td>\n",
       "      <td>StandardScaler()</td>\n",
       "    </tr>\n",
       "    <tr>\n",
       "      <th>4</th>\n",
       "      <td>2012-01-23 04:00:00</td>\n",
       "      <td>StandardScaler()</td>\n",
       "    </tr>\n",
       "    <tr>\n",
       "      <th>...</th>\n",
       "      <td>...</td>\n",
       "      <td>...</td>\n",
       "    </tr>\n",
       "    <tr>\n",
       "      <th>52075</th>\n",
       "      <td>2017-12-31 19:00:00</td>\n",
       "      <td>StandardScaler()</td>\n",
       "    </tr>\n",
       "    <tr>\n",
       "      <th>52076</th>\n",
       "      <td>2017-12-31 20:00:00</td>\n",
       "      <td>StandardScaler()</td>\n",
       "    </tr>\n",
       "    <tr>\n",
       "      <th>52077</th>\n",
       "      <td>2017-12-31 21:00:00</td>\n",
       "      <td>StandardScaler()</td>\n",
       "    </tr>\n",
       "    <tr>\n",
       "      <th>52078</th>\n",
       "      <td>2017-12-31 22:00:00</td>\n",
       "      <td>StandardScaler()</td>\n",
       "    </tr>\n",
       "    <tr>\n",
       "      <th>52079</th>\n",
       "      <td>2017-12-31 23:00:00</td>\n",
       "      <td>StandardScaler()</td>\n",
       "    </tr>\n",
       "  </tbody>\n",
       "</table>\n",
       "<p>52080 rows × 2 columns</p>\n",
       "</div>"
      ],
      "text/plain": [
       "                     Date            scaler\n",
       "0     2012-01-23 00:00:00  StandardScaler()\n",
       "1     2012-01-23 01:00:00  StandardScaler()\n",
       "2     2012-01-23 02:00:00  StandardScaler()\n",
       "3     2012-01-23 03:00:00  StandardScaler()\n",
       "4     2012-01-23 04:00:00  StandardScaler()\n",
       "...                   ...               ...\n",
       "52075 2017-12-31 19:00:00  StandardScaler()\n",
       "52076 2017-12-31 20:00:00  StandardScaler()\n",
       "52077 2017-12-31 21:00:00  StandardScaler()\n",
       "52078 2017-12-31 22:00:00  StandardScaler()\n",
       "52079 2017-12-31 23:00:00  StandardScaler()\n",
       "\n",
       "[52080 rows x 2 columns]"
      ]
     },
     "execution_count": 49,
     "metadata": {},
     "output_type": "execute_result"
    }
   ],
   "source": [
    "df_scalers"
   ]
  },
  {
   "cell_type": "code",
   "execution_count": 50,
   "id": "e19e2be4",
   "metadata": {
    "ExecuteTime": {
     "end_time": "2023-07-31T09:11:37.055005Z",
     "start_time": "2023-07-31T09:11:37.033957Z"
    }
   },
   "outputs": [],
   "source": [
    "df_nuevo = df_nuevo[['Date', 'Price_no_outliers', 'Exogenous 1', 'Exogenous 2']].rename(columns={'Price_no_outliers':'Price'})"
   ]
  },
  {
   "cell_type": "code",
   "execution_count": 51,
   "id": "32eb3690",
   "metadata": {
    "ExecuteTime": {
     "end_time": "2023-06-20T20:43:24.570847Z",
     "start_time": "2023-06-20T20:43:24.549577Z"
    }
   },
   "outputs": [],
   "source": [
    "df = df_nuevo"
   ]
  },
  {
   "cell_type": "code",
   "execution_count": 52,
   "id": "8e9d52f2",
   "metadata": {
    "ExecuteTime": {
     "end_time": "2023-06-20T20:43:24.590981Z",
     "start_time": "2023-06-20T20:43:24.570847Z"
    }
   },
   "outputs": [],
   "source": [
    "df.index = df.Date"
   ]
  },
  {
   "cell_type": "code",
   "execution_count": 53,
   "id": "47b0e7fc",
   "metadata": {
    "ExecuteTime": {
     "end_time": "2023-06-20T20:43:24.616568Z",
     "start_time": "2023-06-20T20:43:24.593392Z"
    }
   },
   "outputs": [],
   "source": [
    "df = df.drop(['Date'], axis = 1)"
   ]
  },
  {
   "cell_type": "code",
   "execution_count": 54,
   "id": "b3bc9dc1",
   "metadata": {
    "ExecuteTime": {
     "end_time": "2023-06-20T20:43:24.633795Z",
     "start_time": "2023-06-20T20:43:24.617578Z"
    }
   },
   "outputs": [],
   "source": [
    "df_train = df[df.index < dt.datetime(2016, 1, 1)]\n",
    "df_test = df[df.index >= dt.datetime(2016, 1, 1)]"
   ]
  },
  {
   "cell_type": "code",
   "execution_count": 55,
   "id": "0c510a7b",
   "metadata": {
    "ExecuteTime": {
     "end_time": "2023-06-20T20:43:24.658312Z",
     "start_time": "2023-06-20T20:43:24.634534Z"
    }
   },
   "outputs": [
    {
     "data": {
      "text/plain": [
       "Index(['Price', 'Exogenous 1', 'Exogenous 2'], dtype='object')"
      ]
     },
     "execution_count": 55,
     "metadata": {},
     "output_type": "execute_result"
    }
   ],
   "source": [
    "df_test.columns"
   ]
  },
  {
   "cell_type": "code",
   "execution_count": 56,
   "id": "4c34c668",
   "metadata": {
    "ExecuteTime": {
     "end_time": "2023-06-20T20:43:24.683244Z",
     "start_time": "2023-06-20T20:43:24.661849Z"
    }
   },
   "outputs": [],
   "source": [
    "forecast = pd.DataFrame(index=df_test.index[::24], columns=['h' + str(k) for k in range(24)])\n",
    "# real_values = df_test.loc[:, ['Price']].values.reshape(-1, 24)\n",
    "# real_values = pd.DataFrame(real_values, index=forecast.index, columns=forecast.columns)"
   ]
  },
  {
   "cell_type": "code",
   "execution_count": 57,
   "id": "bcfaec1a",
   "metadata": {
    "ExecuteTime": {
     "end_time": "2023-06-20T20:43:24.693692Z",
     "start_time": "2023-06-20T20:43:24.687780Z"
    }
   },
   "outputs": [],
   "source": [
    "forecast_dates = forecast.index"
   ]
  },
  {
   "cell_type": "code",
   "execution_count": 58,
   "id": "089d8caa",
   "metadata": {
    "ExecuteTime": {
     "end_time": "2023-06-20T20:43:43.862264Z",
     "start_time": "2023-06-20T20:43:24.696443Z"
    }
   },
   "outputs": [],
   "source": [
    "from epftoolbox.models._lear import LEAR_adaptive_normalization as LEAR"
   ]
  },
  {
   "cell_type": "code",
   "execution_count": 59,
   "id": "dd469dd9",
   "metadata": {
    "ExecuteTime": {
     "end_time": "2023-06-20T20:43:43.871574Z",
     "start_time": "2023-06-20T20:43:43.862264Z"
    }
   },
   "outputs": [],
   "source": [
    "calibration_window = 2*364"
   ]
  },
  {
   "cell_type": "code",
   "execution_count": 60,
   "id": "8d767721",
   "metadata": {
    "ExecuteTime": {
     "end_time": "2023-06-20T20:43:43.890655Z",
     "start_time": "2023-06-20T20:43:43.875180Z"
    }
   },
   "outputs": [],
   "source": [
    "model = LEAR(calibration_window=calibration_window)"
   ]
  },
  {
   "cell_type": "code",
   "execution_count": 61,
   "id": "d445e913",
   "metadata": {
    "ExecuteTime": {
     "end_time": "2023-06-20T20:43:43.931137Z",
     "start_time": "2023-06-20T20:43:43.890978Z"
    }
   },
   "outputs": [
    {
     "data": {
      "text/plain": [
       "array([StandardScaler(), StandardScaler(), StandardScaler(),\n",
       "       StandardScaler(), StandardScaler(), StandardScaler(),\n",
       "       StandardScaler(), StandardScaler(), StandardScaler(),\n",
       "       StandardScaler(), StandardScaler(), StandardScaler(),\n",
       "       StandardScaler(), StandardScaler(), StandardScaler(),\n",
       "       StandardScaler(), StandardScaler(), StandardScaler(),\n",
       "       StandardScaler(), StandardScaler(), StandardScaler(),\n",
       "       StandardScaler(), StandardScaler(), StandardScaler()], dtype=object)"
      ]
     },
     "execution_count": 61,
     "metadata": {},
     "output_type": "execute_result"
    }
   ],
   "source": [
    "df_scalers[(df_scalers.Date >= forecast_dates[0]) & (df_scalers.Date <= forecast_dates[0] + pd.Timedelta(hours=23))].scaler.to_numpy()"
   ]
  },
  {
   "cell_type": "code",
   "execution_count": 62,
   "id": "9f774802",
   "metadata": {
    "ExecuteTime": {
     "end_time": "2023-06-20T20:43:44.027315Z",
     "start_time": "2023-06-20T20:43:43.935451Z"
    }
   },
   "outputs": [],
   "source": [
    "df_original = pd.read_csv(r\"Data\\EPFToolbox\\DE.csv\")"
   ]
  },
  {
   "cell_type": "code",
   "execution_count": 63,
   "id": "c10fd80e",
   "metadata": {
    "ExecuteTime": {
     "end_time": "2023-06-16T06:05:28.629930Z",
     "start_time": "2023-06-16T06:05:28.600570Z"
    }
   },
   "outputs": [],
   "source": [
    "df_original['Date'] = pd.to_datetime(df_original.Date)"
   ]
  },
  {
   "cell_type": "code",
   "execution_count": 64,
   "id": "55a276ad",
   "metadata": {
    "ExecuteTime": {
     "end_time": "2023-06-16T06:05:28.692894Z",
     "start_time": "2023-06-16T06:05:28.679447Z"
    }
   },
   "outputs": [],
   "source": [
    "df_original.index = df_original.Date"
   ]
  },
  {
   "cell_type": "code",
   "execution_count": 65,
   "id": "da23ddec",
   "metadata": {
    "ExecuteTime": {
     "end_time": "2023-06-16T06:05:28.709016Z",
     "start_time": "2023-06-16T06:05:28.694901Z"
    }
   },
   "outputs": [],
   "source": [
    "df_original = df_original.drop('Date', axis = 1)"
   ]
  },
  {
   "cell_type": "code",
   "execution_count": 66,
   "id": "1837dc7a",
   "metadata": {},
   "outputs": [],
   "source": [
    "df_original.columns = ['Price', 'Exogenous 1', 'Exogenous 2']"
   ]
  },
  {
   "cell_type": "code",
   "execution_count": 67,
   "id": "eee390d4",
   "metadata": {
    "ExecuteTime": {
     "end_time": "2023-06-16T06:05:28.725005Z",
     "start_time": "2023-06-16T06:05:28.709934Z"
    }
   },
   "outputs": [],
   "source": [
    "df_original = df_original[df_original.index >= dt.datetime(2016, 1, 1)]"
   ]
  },
  {
   "cell_type": "code",
   "execution_count": 68,
   "id": "4523cfb6",
   "metadata": {
    "ExecuteTime": {
     "end_time": "2023-06-20T20:43:44.236018Z",
     "start_time": "2023-06-20T20:43:44.211020Z"
    }
   },
   "outputs": [],
   "source": [
    "real_values = df_original[df_original.index >= dt.datetime(2016, 1, 1)].loc[:, ['Price']].values.reshape(-1, 24)\n",
    "real_values = pd.DataFrame(real_values, index=forecast.index, columns=forecast.columns)"
   ]
  },
  {
   "cell_type": "code",
   "execution_count": 69,
   "id": "8d8bda2e",
   "metadata": {
    "ExecuteTime": {
     "end_time": "2023-06-20T20:43:44.302275Z",
     "start_time": "2023-06-20T20:43:44.236018Z"
    }
   },
   "outputs": [
    {
     "data": {
      "text/html": [
       "<div>\n",
       "<style scoped>\n",
       "    .dataframe tbody tr th:only-of-type {\n",
       "        vertical-align: middle;\n",
       "    }\n",
       "\n",
       "    .dataframe tbody tr th {\n",
       "        vertical-align: top;\n",
       "    }\n",
       "\n",
       "    .dataframe thead th {\n",
       "        text-align: right;\n",
       "    }\n",
       "</style>\n",
       "<table border=\"1\" class=\"dataframe\">\n",
       "  <thead>\n",
       "    <tr style=\"text-align: right;\">\n",
       "      <th></th>\n",
       "      <th>h0</th>\n",
       "      <th>h1</th>\n",
       "      <th>h2</th>\n",
       "      <th>h3</th>\n",
       "      <th>h4</th>\n",
       "      <th>h5</th>\n",
       "      <th>h6</th>\n",
       "      <th>h7</th>\n",
       "      <th>h8</th>\n",
       "      <th>h9</th>\n",
       "      <th>...</th>\n",
       "      <th>h14</th>\n",
       "      <th>h15</th>\n",
       "      <th>h16</th>\n",
       "      <th>h17</th>\n",
       "      <th>h18</th>\n",
       "      <th>h19</th>\n",
       "      <th>h20</th>\n",
       "      <th>h21</th>\n",
       "      <th>h22</th>\n",
       "      <th>h23</th>\n",
       "    </tr>\n",
       "    <tr>\n",
       "      <th>Date</th>\n",
       "      <th></th>\n",
       "      <th></th>\n",
       "      <th></th>\n",
       "      <th></th>\n",
       "      <th></th>\n",
       "      <th></th>\n",
       "      <th></th>\n",
       "      <th></th>\n",
       "      <th></th>\n",
       "      <th></th>\n",
       "      <th></th>\n",
       "      <th></th>\n",
       "      <th></th>\n",
       "      <th></th>\n",
       "      <th></th>\n",
       "      <th></th>\n",
       "      <th></th>\n",
       "      <th></th>\n",
       "      <th></th>\n",
       "      <th></th>\n",
       "      <th></th>\n",
       "    </tr>\n",
       "  </thead>\n",
       "  <tbody>\n",
       "    <tr>\n",
       "      <th>2016-01-01</th>\n",
       "      <td>23.86</td>\n",
       "      <td>22.39</td>\n",
       "      <td>20.59</td>\n",
       "      <td>16.81</td>\n",
       "      <td>17.41</td>\n",
       "      <td>17.02</td>\n",
       "      <td>15.86</td>\n",
       "      <td>18.16</td>\n",
       "      <td>17.73</td>\n",
       "      <td>19.77</td>\n",
       "      <td>...</td>\n",
       "      <td>25.00</td>\n",
       "      <td>24.43</td>\n",
       "      <td>28.87</td>\n",
       "      <td>37.44</td>\n",
       "      <td>37.41</td>\n",
       "      <td>35.34</td>\n",
       "      <td>33.07</td>\n",
       "      <td>29.52</td>\n",
       "      <td>30.10</td>\n",
       "      <td>24.57</td>\n",
       "    </tr>\n",
       "    <tr>\n",
       "      <th>2016-01-02</th>\n",
       "      <td>22.20</td>\n",
       "      <td>16.57</td>\n",
       "      <td>15.35</td>\n",
       "      <td>12.77</td>\n",
       "      <td>11.27</td>\n",
       "      <td>11.91</td>\n",
       "      <td>12.62</td>\n",
       "      <td>13.83</td>\n",
       "      <td>16.12</td>\n",
       "      <td>18.12</td>\n",
       "      <td>...</td>\n",
       "      <td>16.90</td>\n",
       "      <td>16.97</td>\n",
       "      <td>19.25</td>\n",
       "      <td>28.01</td>\n",
       "      <td>28.36</td>\n",
       "      <td>26.56</td>\n",
       "      <td>17.38</td>\n",
       "      <td>15.83</td>\n",
       "      <td>16.97</td>\n",
       "      <td>15.31</td>\n",
       "    </tr>\n",
       "    <tr>\n",
       "      <th>2016-01-03</th>\n",
       "      <td>6.99</td>\n",
       "      <td>-0.01</td>\n",
       "      <td>0.23</td>\n",
       "      <td>4.51</td>\n",
       "      <td>4.12</td>\n",
       "      <td>6.76</td>\n",
       "      <td>0.75</td>\n",
       "      <td>4.27</td>\n",
       "      <td>9.11</td>\n",
       "      <td>15.92</td>\n",
       "      <td>...</td>\n",
       "      <td>18.49</td>\n",
       "      <td>16.51</td>\n",
       "      <td>18.76</td>\n",
       "      <td>22.21</td>\n",
       "      <td>26.76</td>\n",
       "      <td>27.08</td>\n",
       "      <td>25.33</td>\n",
       "      <td>22.11</td>\n",
       "      <td>20.91</td>\n",
       "      <td>14.43</td>\n",
       "    </tr>\n",
       "    <tr>\n",
       "      <th>2016-01-04</th>\n",
       "      <td>13.78</td>\n",
       "      <td>12.77</td>\n",
       "      <td>10.56</td>\n",
       "      <td>3.87</td>\n",
       "      <td>3.20</td>\n",
       "      <td>8.67</td>\n",
       "      <td>18.01</td>\n",
       "      <td>28.52</td>\n",
       "      <td>34.74</td>\n",
       "      <td>33.46</td>\n",
       "      <td>...</td>\n",
       "      <td>34.94</td>\n",
       "      <td>34.92</td>\n",
       "      <td>38.00</td>\n",
       "      <td>41.21</td>\n",
       "      <td>42.95</td>\n",
       "      <td>41.96</td>\n",
       "      <td>34.94</td>\n",
       "      <td>30.66</td>\n",
       "      <td>30.00</td>\n",
       "      <td>23.90</td>\n",
       "    </tr>\n",
       "    <tr>\n",
       "      <th>2016-01-05</th>\n",
       "      <td>25.03</td>\n",
       "      <td>24.42</td>\n",
       "      <td>22.34</td>\n",
       "      <td>21.50</td>\n",
       "      <td>20.00</td>\n",
       "      <td>23.53</td>\n",
       "      <td>28.96</td>\n",
       "      <td>38.32</td>\n",
       "      <td>41.45</td>\n",
       "      <td>40.72</td>\n",
       "      <td>...</td>\n",
       "      <td>34.91</td>\n",
       "      <td>33.50</td>\n",
       "      <td>35.10</td>\n",
       "      <td>42.44</td>\n",
       "      <td>42.94</td>\n",
       "      <td>41.74</td>\n",
       "      <td>36.47</td>\n",
       "      <td>33.01</td>\n",
       "      <td>31.75</td>\n",
       "      <td>26.99</td>\n",
       "    </tr>\n",
       "    <tr>\n",
       "      <th>...</th>\n",
       "      <td>...</td>\n",
       "      <td>...</td>\n",
       "      <td>...</td>\n",
       "      <td>...</td>\n",
       "      <td>...</td>\n",
       "      <td>...</td>\n",
       "      <td>...</td>\n",
       "      <td>...</td>\n",
       "      <td>...</td>\n",
       "      <td>...</td>\n",
       "      <td>...</td>\n",
       "      <td>...</td>\n",
       "      <td>...</td>\n",
       "      <td>...</td>\n",
       "      <td>...</td>\n",
       "      <td>...</td>\n",
       "      <td>...</td>\n",
       "      <td>...</td>\n",
       "      <td>...</td>\n",
       "      <td>...</td>\n",
       "      <td>...</td>\n",
       "    </tr>\n",
       "    <tr>\n",
       "      <th>2017-12-27</th>\n",
       "      <td>25.37</td>\n",
       "      <td>15.09</td>\n",
       "      <td>13.93</td>\n",
       "      <td>13.48</td>\n",
       "      <td>12.74</td>\n",
       "      <td>13.29</td>\n",
       "      <td>20.03</td>\n",
       "      <td>28.62</td>\n",
       "      <td>32.00</td>\n",
       "      <td>34.91</td>\n",
       "      <td>...</td>\n",
       "      <td>46.40</td>\n",
       "      <td>46.48</td>\n",
       "      <td>50.90</td>\n",
       "      <td>56.09</td>\n",
       "      <td>57.57</td>\n",
       "      <td>51.33</td>\n",
       "      <td>42.40</td>\n",
       "      <td>40.00</td>\n",
       "      <td>42.24</td>\n",
       "      <td>31.27</td>\n",
       "    </tr>\n",
       "    <tr>\n",
       "      <th>2017-12-28</th>\n",
       "      <td>28.87</td>\n",
       "      <td>28.12</td>\n",
       "      <td>27.20</td>\n",
       "      <td>26.00</td>\n",
       "      <td>26.33</td>\n",
       "      <td>28.89</td>\n",
       "      <td>30.74</td>\n",
       "      <td>35.98</td>\n",
       "      <td>38.43</td>\n",
       "      <td>39.93</td>\n",
       "      <td>...</td>\n",
       "      <td>36.42</td>\n",
       "      <td>40.03</td>\n",
       "      <td>42.98</td>\n",
       "      <td>43.01</td>\n",
       "      <td>42.16</td>\n",
       "      <td>34.93</td>\n",
       "      <td>25.06</td>\n",
       "      <td>19.99</td>\n",
       "      <td>19.22</td>\n",
       "      <td>5.86</td>\n",
       "    </tr>\n",
       "    <tr>\n",
       "      <th>2017-12-29</th>\n",
       "      <td>9.73</td>\n",
       "      <td>0.72</td>\n",
       "      <td>-0.93</td>\n",
       "      <td>1.07</td>\n",
       "      <td>1.00</td>\n",
       "      <td>2.91</td>\n",
       "      <td>3.60</td>\n",
       "      <td>15.97</td>\n",
       "      <td>29.69</td>\n",
       "      <td>30.20</td>\n",
       "      <td>...</td>\n",
       "      <td>30.02</td>\n",
       "      <td>31.00</td>\n",
       "      <td>32.98</td>\n",
       "      <td>34.95</td>\n",
       "      <td>32.79</td>\n",
       "      <td>30.23</td>\n",
       "      <td>28.49</td>\n",
       "      <td>26.51</td>\n",
       "      <td>26.90</td>\n",
       "      <td>15.06</td>\n",
       "    </tr>\n",
       "    <tr>\n",
       "      <th>2017-12-30</th>\n",
       "      <td>16.40</td>\n",
       "      <td>13.33</td>\n",
       "      <td>13.25</td>\n",
       "      <td>12.04</td>\n",
       "      <td>11.45</td>\n",
       "      <td>8.49</td>\n",
       "      <td>9.83</td>\n",
       "      <td>12.07</td>\n",
       "      <td>13.41</td>\n",
       "      <td>16.09</td>\n",
       "      <td>...</td>\n",
       "      <td>17.61</td>\n",
       "      <td>13.22</td>\n",
       "      <td>14.02</td>\n",
       "      <td>16.78</td>\n",
       "      <td>16.01</td>\n",
       "      <td>16.18</td>\n",
       "      <td>11.13</td>\n",
       "      <td>4.62</td>\n",
       "      <td>4.71</td>\n",
       "      <td>-0.27</td>\n",
       "    </tr>\n",
       "    <tr>\n",
       "      <th>2017-12-31</th>\n",
       "      <td>-2.04</td>\n",
       "      <td>-4.99</td>\n",
       "      <td>-0.59</td>\n",
       "      <td>-3.71</td>\n",
       "      <td>0.08</td>\n",
       "      <td>1.16</td>\n",
       "      <td>-0.86</td>\n",
       "      <td>4.09</td>\n",
       "      <td>4.17</td>\n",
       "      <td>4.21</td>\n",
       "      <td>...</td>\n",
       "      <td>0.06</td>\n",
       "      <td>0.36</td>\n",
       "      <td>1.46</td>\n",
       "      <td>6.14</td>\n",
       "      <td>9.96</td>\n",
       "      <td>7.92</td>\n",
       "      <td>4.06</td>\n",
       "      <td>5.30</td>\n",
       "      <td>1.86</td>\n",
       "      <td>-0.92</td>\n",
       "    </tr>\n",
       "  </tbody>\n",
       "</table>\n",
       "<p>731 rows × 24 columns</p>\n",
       "</div>"
      ],
      "text/plain": [
       "               h0     h1     h2     h3     h4     h5     h6     h7     h8  \\\n",
       "Date                                                                        \n",
       "2016-01-01  23.86  22.39  20.59  16.81  17.41  17.02  15.86  18.16  17.73   \n",
       "2016-01-02  22.20  16.57  15.35  12.77  11.27  11.91  12.62  13.83  16.12   \n",
       "2016-01-03   6.99  -0.01   0.23   4.51   4.12   6.76   0.75   4.27   9.11   \n",
       "2016-01-04  13.78  12.77  10.56   3.87   3.20   8.67  18.01  28.52  34.74   \n",
       "2016-01-05  25.03  24.42  22.34  21.50  20.00  23.53  28.96  38.32  41.45   \n",
       "...           ...    ...    ...    ...    ...    ...    ...    ...    ...   \n",
       "2017-12-27  25.37  15.09  13.93  13.48  12.74  13.29  20.03  28.62  32.00   \n",
       "2017-12-28  28.87  28.12  27.20  26.00  26.33  28.89  30.74  35.98  38.43   \n",
       "2017-12-29   9.73   0.72  -0.93   1.07   1.00   2.91   3.60  15.97  29.69   \n",
       "2017-12-30  16.40  13.33  13.25  12.04  11.45   8.49   9.83  12.07  13.41   \n",
       "2017-12-31  -2.04  -4.99  -0.59  -3.71   0.08   1.16  -0.86   4.09   4.17   \n",
       "\n",
       "               h9  ...    h14    h15    h16    h17    h18    h19    h20  \\\n",
       "Date               ...                                                    \n",
       "2016-01-01  19.77  ...  25.00  24.43  28.87  37.44  37.41  35.34  33.07   \n",
       "2016-01-02  18.12  ...  16.90  16.97  19.25  28.01  28.36  26.56  17.38   \n",
       "2016-01-03  15.92  ...  18.49  16.51  18.76  22.21  26.76  27.08  25.33   \n",
       "2016-01-04  33.46  ...  34.94  34.92  38.00  41.21  42.95  41.96  34.94   \n",
       "2016-01-05  40.72  ...  34.91  33.50  35.10  42.44  42.94  41.74  36.47   \n",
       "...           ...  ...    ...    ...    ...    ...    ...    ...    ...   \n",
       "2017-12-27  34.91  ...  46.40  46.48  50.90  56.09  57.57  51.33  42.40   \n",
       "2017-12-28  39.93  ...  36.42  40.03  42.98  43.01  42.16  34.93  25.06   \n",
       "2017-12-29  30.20  ...  30.02  31.00  32.98  34.95  32.79  30.23  28.49   \n",
       "2017-12-30  16.09  ...  17.61  13.22  14.02  16.78  16.01  16.18  11.13   \n",
       "2017-12-31   4.21  ...   0.06   0.36   1.46   6.14   9.96   7.92   4.06   \n",
       "\n",
       "              h21    h22    h23  \n",
       "Date                             \n",
       "2016-01-01  29.52  30.10  24.57  \n",
       "2016-01-02  15.83  16.97  15.31  \n",
       "2016-01-03  22.11  20.91  14.43  \n",
       "2016-01-04  30.66  30.00  23.90  \n",
       "2016-01-05  33.01  31.75  26.99  \n",
       "...           ...    ...    ...  \n",
       "2017-12-27  40.00  42.24  31.27  \n",
       "2017-12-28  19.99  19.22   5.86  \n",
       "2017-12-29  26.51  26.90  15.06  \n",
       "2017-12-30   4.62   4.71  -0.27  \n",
       "2017-12-31   5.30   1.86  -0.92  \n",
       "\n",
       "[731 rows x 24 columns]"
      ]
     },
     "execution_count": 69,
     "metadata": {},
     "output_type": "execute_result"
    }
   ],
   "source": [
    "real_values"
   ]
  },
  {
   "cell_type": "code",
   "execution_count": null,
   "id": "c2d615db",
   "metadata": {
    "ExecuteTime": {
     "end_time": "2023-06-18T22:05:42.573472Z",
     "start_time": "2023-06-18T08:39:24.263159Z"
    },
    "scrolled": true
   },
   "outputs": [
    {
     "name": "stdout",
     "output_type": "stream",
     "text": [
      "2016-01-01 - sMAPE: 18.87%  |  MAE: 4.457\n",
      "2016-01-02 - sMAPE: 15.93%  |  MAE: 3.483\n",
      "2016-01-03 - sMAPE: 23.47%  |  MAE: 3.223\n",
      "2016-01-04 - sMAPE: 23.45%  |  MAE: 3.588\n",
      "2016-01-05 - sMAPE: 21.63%  |  MAE: 3.670\n",
      "2016-01-06 - sMAPE: 20.46%  |  MAE: 3.850\n",
      "2016-01-07 - sMAPE: 19.24%  |  MAE: 3.868\n",
      "2016-01-08 - sMAPE: 19.06%  |  MAE: 3.987\n",
      "2016-01-09 - sMAPE: 18.65%  |  MAE: 3.998\n",
      "2016-01-10 - sMAPE: 18.01%  |  MAE: 3.820\n",
      "2016-01-11 - sMAPE: 16.98%  |  MAE: 3.696\n",
      "2016-01-12 - sMAPE: 16.84%  |  MAE: 3.748\n",
      "2016-01-13 - sMAPE: 16.12%  |  MAE: 3.640\n",
      "2016-01-14 - sMAPE: 15.63%  |  MAE: 3.612\n",
      "2016-01-15 - sMAPE: 15.29%  |  MAE: 3.635\n",
      "2016-01-16 - sMAPE: 14.88%  |  MAE: 3.555\n",
      "2016-01-17 - sMAPE: 15.17%  |  MAE: 3.651\n",
      "2016-01-18 - sMAPE: 15.06%  |  MAE: 3.761\n",
      "2016-01-19 - sMAPE: 15.74%  |  MAE: 4.223\n",
      "2016-01-20 - sMAPE: 15.83%  |  MAE: 4.465\n",
      "2016-01-21 - sMAPE: 15.67%  |  MAE: 4.614\n",
      "2016-01-22 - sMAPE: 16.13%  |  MAE: 4.907\n",
      "2016-01-23 - sMAPE: 16.44%  |  MAE: 4.922\n",
      "2016-01-24 - sMAPE: 16.37%  |  MAE: 4.856\n",
      "2016-01-25 - sMAPE: 17.02%  |  MAE: 5.162\n",
      "2016-01-26 - sMAPE: 17.69%  |  MAE: 5.419\n",
      "2016-01-27 - sMAPE: 19.15%  |  MAE: 5.629\n",
      "2016-01-28 - sMAPE: 18.83%  |  MAE: 5.520\n",
      "2016-01-29 - sMAPE: 19.12%  |  MAE: 5.563\n",
      "2016-01-30 - sMAPE: 20.43%  |  MAE: 5.561\n",
      "2016-01-31 - sMAPE: 21.23%  |  MAE: 5.467\n",
      "2016-02-01 - sMAPE: 21.56%  |  MAE: 5.501\n",
      "2016-02-02 - sMAPE: 22.28%  |  MAE: 5.439\n",
      "2016-02-03 - sMAPE: 22.28%  |  MAE: 5.406\n",
      "2016-02-04 - sMAPE: 22.33%  |  MAE: 5.406\n",
      "2016-02-05 - sMAPE: 22.00%  |  MAE: 5.341\n",
      "2016-02-06 - sMAPE: 21.82%  |  MAE: 5.268\n",
      "2016-02-07 - sMAPE: 22.50%  |  MAE: 5.201\n",
      "2016-02-08 - sMAPE: 23.03%  |  MAE: 5.234\n",
      "2016-02-09 - sMAPE: 23.93%  |  MAE: 5.308\n",
      "2016-02-10 - sMAPE: 23.58%  |  MAE: 5.224\n",
      "2016-02-11 - sMAPE: 23.51%  |  MAE: 5.218\n",
      "2016-02-12 - sMAPE: 23.16%  |  MAE: 5.152\n",
      "2016-02-13 - sMAPE: 23.00%  |  MAE: 5.114\n",
      "2016-02-14 - sMAPE: 23.12%  |  MAE: 5.080\n",
      "2016-02-15 - sMAPE: 22.80%  |  MAE: 5.011\n",
      "2016-02-16 - sMAPE: 22.62%  |  MAE: 5.001\n",
      "2016-02-17 - sMAPE: 22.39%  |  MAE: 4.964\n",
      "2016-02-18 - sMAPE: 22.09%  |  MAE: 4.909\n",
      "2016-02-19 - sMAPE: 21.89%  |  MAE: 4.877\n",
      "2016-02-20 - sMAPE: 22.15%  |  MAE: 4.883\n",
      "2016-02-21 - sMAPE: 22.74%  |  MAE: 4.833\n",
      "2016-02-22 - sMAPE: 23.33%  |  MAE: 4.818\n",
      "2016-02-23 - sMAPE: 23.15%  |  MAE: 4.795\n",
      "2016-02-24 - sMAPE: 22.87%  |  MAE: 4.742\n",
      "2016-02-25 - sMAPE: 22.75%  |  MAE: 4.726\n",
      "2016-02-26 - sMAPE: 22.47%  |  MAE: 4.675\n",
      "2016-02-27 - sMAPE: 22.20%  |  MAE: 4.621\n",
      "2016-02-28 - sMAPE: 22.07%  |  MAE: 4.586\n",
      "2016-02-29 - sMAPE: 21.87%  |  MAE: 4.552\n",
      "2016-03-01 - sMAPE: 21.74%  |  MAE: 4.537\n",
      "2016-03-02 - sMAPE: 21.67%  |  MAE: 4.529\n",
      "2016-03-03 - sMAPE: 21.50%  |  MAE: 4.507\n",
      "2016-03-04 - sMAPE: 21.32%  |  MAE: 4.477\n",
      "2016-03-05 - sMAPE: 21.14%  |  MAE: 4.443\n",
      "2016-03-06 - sMAPE: 20.97%  |  MAE: 4.406\n",
      "2016-03-07 - sMAPE: 20.79%  |  MAE: 4.382\n",
      "2016-03-08 - sMAPE: 20.61%  |  MAE: 4.354\n",
      "2016-03-09 - sMAPE: 20.45%  |  MAE: 4.329\n",
      "2016-03-10 - sMAPE: 20.25%  |  MAE: 4.292\n",
      "2016-03-11 - sMAPE: 20.09%  |  MAE: 4.266\n",
      "2016-03-12 - sMAPE: 20.05%  |  MAE: 4.269\n",
      "2016-03-13 - sMAPE: 19.94%  |  MAE: 4.249\n",
      "2016-03-14 - sMAPE: 19.82%  |  MAE: 4.233\n",
      "2016-03-15 - sMAPE: 19.69%  |  MAE: 4.214\n",
      "2016-03-16 - sMAPE: 19.55%  |  MAE: 4.189\n",
      "2016-03-17 - sMAPE: 19.41%  |  MAE: 4.170\n",
      "2016-03-18 - sMAPE: 19.29%  |  MAE: 4.150\n",
      "2016-03-19 - sMAPE: 19.11%  |  MAE: 4.113\n",
      "2016-03-20 - sMAPE: 19.07%  |  MAE: 4.098\n",
      "2016-03-21 - sMAPE: 18.93%  |  MAE: 4.070\n",
      "2016-03-22 - sMAPE: 18.82%  |  MAE: 4.056\n",
      "2016-03-23 - sMAPE: 18.75%  |  MAE: 4.050\n",
      "2016-03-24 - sMAPE: 18.59%  |  MAE: 4.019\n",
      "2016-03-25 - sMAPE: 18.50%  |  MAE: 4.007\n",
      "2016-03-26 - sMAPE: 18.57%  |  MAE: 4.023\n",
      "2016-03-27 - sMAPE: 19.02%  |  MAE: 4.046\n",
      "2016-03-28 - sMAPE: 20.15%  |  MAE: 4.234\n",
      "2016-03-29 - sMAPE: 20.38%  |  MAE: 4.267\n",
      "2016-03-30 - sMAPE: 20.28%  |  MAE: 4.251\n",
      "2016-03-31 - sMAPE: 20.18%  |  MAE: 4.239\n",
      "2016-04-01 - sMAPE: 20.31%  |  MAE: 4.277\n",
      "2016-04-02 - sMAPE: 20.25%  |  MAE: 4.262\n",
      "2016-04-03 - sMAPE: 20.24%  |  MAE: 4.247\n",
      "2016-04-04 - sMAPE: 20.38%  |  MAE: 4.281\n",
      "2016-04-05 - sMAPE: 20.27%  |  MAE: 4.265\n",
      "2016-04-06 - sMAPE: 20.23%  |  MAE: 4.265\n",
      "2016-04-07 - sMAPE: 20.11%  |  MAE: 4.240\n",
      "2016-04-08 - sMAPE: 20.04%  |  MAE: 4.232\n",
      "2016-04-09 - sMAPE: 19.89%  |  MAE: 4.203\n",
      "2016-04-10 - sMAPE: 19.77%  |  MAE: 4.177\n",
      "2016-04-11 - sMAPE: 19.67%  |  MAE: 4.157\n",
      "2016-04-12 - sMAPE: 19.56%  |  MAE: 4.139\n",
      "2016-04-13 - sMAPE: 19.43%  |  MAE: 4.117\n",
      "2016-04-14 - sMAPE: 19.28%  |  MAE: 4.087\n",
      "2016-04-15 - sMAPE: 19.15%  |  MAE: 4.063\n",
      "2016-04-16 - sMAPE: 19.10%  |  MAE: 4.050\n",
      "2016-04-17 - sMAPE: 19.03%  |  MAE: 4.031\n",
      "2016-04-18 - sMAPE: 19.00%  |  MAE: 4.030\n",
      "2016-04-19 - sMAPE: 18.99%  |  MAE: 4.030\n",
      "2016-04-20 - sMAPE: 18.92%  |  MAE: 4.017\n",
      "2016-04-21 - sMAPE: 18.84%  |  MAE: 4.004\n",
      "2016-04-22 - sMAPE: 18.71%  |  MAE: 3.977\n",
      "2016-04-23 - sMAPE: 18.61%  |  MAE: 3.958\n",
      "2016-04-24 - sMAPE: 18.63%  |  MAE: 3.950\n",
      "2016-04-25 - sMAPE: 18.54%  |  MAE: 3.934\n",
      "2016-04-26 - sMAPE: 18.42%  |  MAE: 3.910\n",
      "2016-04-27 - sMAPE: 18.31%  |  MAE: 3.888\n",
      "2016-04-28 - sMAPE: 18.24%  |  MAE: 3.881\n",
      "2016-04-29 - sMAPE: 18.22%  |  MAE: 3.885\n",
      "2016-04-30 - sMAPE: 18.12%  |  MAE: 3.865\n",
      "2016-05-01 - sMAPE: 18.03%  |  MAE: 3.845\n",
      "2016-05-02 - sMAPE: 17.94%  |  MAE: 3.828\n",
      "2016-05-03 - sMAPE: 17.86%  |  MAE: 3.816\n",
      "2016-05-04 - sMAPE: 17.75%  |  MAE: 3.796\n",
      "2016-05-05 - sMAPE: 17.90%  |  MAE: 3.832\n",
      "2016-05-06 - sMAPE: 17.84%  |  MAE: 3.818\n",
      "2016-05-07 - sMAPE: 17.96%  |  MAE: 3.823\n",
      "2016-05-08 - sMAPE: 18.64%  |  MAE: 4.000\n",
      "2016-05-09 - sMAPE: 18.68%  |  MAE: 4.003\n",
      "2016-05-10 - sMAPE: 18.65%  |  MAE: 3.998\n",
      "2016-05-11 - sMAPE: 18.59%  |  MAE: 3.989\n",
      "2016-05-12 - sMAPE: 18.72%  |  MAE: 4.015\n",
      "2016-05-13 - sMAPE: 18.68%  |  MAE: 4.012\n",
      "2016-05-14 - sMAPE: 18.89%  |  MAE: 4.034\n",
      "2016-05-15 - sMAPE: 19.26%  |  MAE: 4.048\n",
      "2016-05-16 - sMAPE: 19.28%  |  MAE: 4.055\n",
      "2016-05-17 - sMAPE: 19.24%  |  MAE: 4.052\n",
      "2016-05-18 - sMAPE: 19.15%  |  MAE: 4.040\n",
      "2016-05-19 - sMAPE: 19.09%  |  MAE: 4.036\n",
      "2016-05-20 - sMAPE: 19.04%  |  MAE: 4.032\n",
      "2016-05-21 - sMAPE: 19.00%  |  MAE: 4.024\n",
      "2016-05-22 - sMAPE: 19.69%  |  MAE: 4.068\n",
      "2016-05-23 - sMAPE: 19.86%  |  MAE: 4.110\n",
      "2016-05-24 - sMAPE: 19.79%  |  MAE: 4.099\n",
      "2016-05-25 - sMAPE: 19.71%  |  MAE: 4.085\n",
      "2016-05-26 - sMAPE: 19.67%  |  MAE: 4.086\n",
      "2016-05-27 - sMAPE: 19.58%  |  MAE: 4.069\n",
      "2016-05-28 - sMAPE: 19.53%  |  MAE: 4.060\n",
      "2016-05-29 - sMAPE: 19.59%  |  MAE: 4.055\n",
      "2016-05-30 - sMAPE: 19.54%  |  MAE: 4.049\n",
      "2016-05-31 - sMAPE: 19.49%  |  MAE: 4.044\n",
      "2016-06-01 - sMAPE: 19.44%  |  MAE: 4.040\n",
      "2016-06-02 - sMAPE: 19.41%  |  MAE: 4.044\n",
      "2016-06-03 - sMAPE: 19.38%  |  MAE: 4.042\n",
      "2016-06-04 - sMAPE: 19.29%  |  MAE: 4.025\n",
      "2016-06-05 - sMAPE: 19.23%  |  MAE: 4.011\n",
      "2016-06-06 - sMAPE: 19.14%  |  MAE: 3.995\n",
      "2016-06-07 - sMAPE: 19.08%  |  MAE: 3.987\n",
      "2016-06-08 - sMAPE: 19.00%  |  MAE: 3.976\n",
      "2016-06-09 - sMAPE: 18.94%  |  MAE: 3.969\n",
      "2016-06-10 - sMAPE: 18.87%  |  MAE: 3.958\n",
      "2016-06-11 - sMAPE: 18.81%  |  MAE: 3.948\n",
      "2016-06-12 - sMAPE: 18.74%  |  MAE: 3.933\n",
      "2016-06-13 - sMAPE: 18.67%  |  MAE: 3.923\n",
      "2016-06-14 - sMAPE: 18.59%  |  MAE: 3.910\n",
      "2016-06-15 - sMAPE: 18.51%  |  MAE: 3.894\n",
      "2016-06-16 - sMAPE: 18.42%  |  MAE: 3.878\n",
      "2016-06-17 - sMAPE: 18.36%  |  MAE: 3.869\n",
      "2016-06-18 - sMAPE: 18.31%  |  MAE: 3.858\n",
      "2016-06-19 - sMAPE: 18.34%  |  MAE: 3.858\n",
      "2016-06-20 - sMAPE: 18.27%  |  MAE: 3.844\n",
      "2016-06-21 - sMAPE: 18.24%  |  MAE: 3.848\n",
      "2016-06-22 - sMAPE: 18.16%  |  MAE: 3.836\n",
      "2016-06-23 - sMAPE: 18.11%  |  MAE: 3.828\n",
      "2016-06-24 - sMAPE: 18.04%  |  MAE: 3.817\n",
      "2016-06-25 - sMAPE: 17.99%  |  MAE: 3.810\n",
      "2016-06-26 - sMAPE: 18.09%  |  MAE: 3.820\n",
      "2016-06-27 - sMAPE: 18.05%  |  MAE: 3.815\n",
      "2016-06-28 - sMAPE: 17.97%  |  MAE: 3.802\n",
      "2016-06-29 - sMAPE: 17.96%  |  MAE: 3.803\n",
      "2016-06-30 - sMAPE: 17.89%  |  MAE: 3.792\n",
      "2016-07-01 - sMAPE: 17.84%  |  MAE: 3.786\n",
      "2016-07-02 - sMAPE: 17.83%  |  MAE: 3.784\n",
      "2016-07-03 - sMAPE: 17.92%  |  MAE: 3.787\n",
      "2016-07-04 - sMAPE: 17.88%  |  MAE: 3.784\n",
      "2016-07-05 - sMAPE: 17.90%  |  MAE: 3.798\n",
      "2016-07-06 - sMAPE: 18.09%  |  MAE: 3.822\n",
      "2016-07-07 - sMAPE: 18.10%  |  MAE: 3.830\n",
      "2016-07-08 - sMAPE: 18.04%  |  MAE: 3.820\n",
      "2016-07-09 - sMAPE: 18.02%  |  MAE: 3.814\n",
      "2016-07-10 - sMAPE: 18.14%  |  MAE: 3.815\n",
      "2016-07-11 - sMAPE: 18.11%  |  MAE: 3.813\n",
      "2016-07-12 - sMAPE: 18.06%  |  MAE: 3.806\n",
      "2016-07-13 - sMAPE: 18.04%  |  MAE: 3.809\n",
      "2016-07-14 - sMAPE: 18.03%  |  MAE: 3.813\n"
     ]
    },
    {
     "name": "stdout",
     "output_type": "stream",
     "text": [
      "2016-07-15 - sMAPE: 17.98%  |  MAE: 3.804\n",
      "2016-07-16 - sMAPE: 17.94%  |  MAE: 3.797\n",
      "2016-07-17 - sMAPE: 17.89%  |  MAE: 3.787\n",
      "2016-07-18 - sMAPE: 17.83%  |  MAE: 3.775\n",
      "2016-07-19 - sMAPE: 17.76%  |  MAE: 3.764\n",
      "2016-07-20 - sMAPE: 17.71%  |  MAE: 3.757\n",
      "2016-07-21 - sMAPE: 17.70%  |  MAE: 3.763\n",
      "2016-07-22 - sMAPE: 17.63%  |  MAE: 3.748\n",
      "2016-07-23 - sMAPE: 17.59%  |  MAE: 3.742\n",
      "2016-07-24 - sMAPE: 17.53%  |  MAE: 3.733\n",
      "2016-07-25 - sMAPE: 17.47%  |  MAE: 3.723\n",
      "2016-07-26 - sMAPE: 17.41%  |  MAE: 3.711\n",
      "2016-07-27 - sMAPE: 17.35%  |  MAE: 3.702\n",
      "2016-07-28 - sMAPE: 17.28%  |  MAE: 3.690\n",
      "2016-07-29 - sMAPE: 17.23%  |  MAE: 3.681\n",
      "2016-07-30 - sMAPE: 17.17%  |  MAE: 3.669\n",
      "2016-07-31 - sMAPE: 17.12%  |  MAE: 3.661\n",
      "2016-08-01 - sMAPE: 17.08%  |  MAE: 3.655\n",
      "2016-08-02 - sMAPE: 17.04%  |  MAE: 3.651\n",
      "2016-08-03 - sMAPE: 17.00%  |  MAE: 3.645\n",
      "2016-08-04 - sMAPE: 16.96%  |  MAE: 3.639\n",
      "2016-08-05 - sMAPE: 16.91%  |  MAE: 3.631\n",
      "2016-08-06 - sMAPE: 16.88%  |  MAE: 3.627\n",
      "2016-08-07 - sMAPE: 17.07%  |  MAE: 3.647\n",
      "2016-08-08 - sMAPE: 17.13%  |  MAE: 3.657\n",
      "2016-08-09 - sMAPE: 17.10%  |  MAE: 3.653\n",
      "2016-08-10 - sMAPE: 17.04%  |  MAE: 3.642\n",
      "2016-08-11 - sMAPE: 16.98%  |  MAE: 3.631\n",
      "2016-08-12 - sMAPE: 16.95%  |  MAE: 3.628\n",
      "2016-08-13 - sMAPE: 16.95%  |  MAE: 3.624\n",
      "2016-08-14 - sMAPE: 17.03%  |  MAE: 3.633\n",
      "2016-08-15 - sMAPE: 16.97%  |  MAE: 3.622\n",
      "2016-08-16 - sMAPE: 16.91%  |  MAE: 3.612\n",
      "2016-08-17 - sMAPE: 16.86%  |  MAE: 3.602\n",
      "2016-08-18 - sMAPE: 16.81%  |  MAE: 3.593\n",
      "2016-08-19 - sMAPE: 16.75%  |  MAE: 3.583\n",
      "2016-08-20 - sMAPE: 16.70%  |  MAE: 3.572\n",
      "2016-08-21 - sMAPE: 16.85%  |  MAE: 3.592\n",
      "2016-08-22 - sMAPE: 16.83%  |  MAE: 3.591\n",
      "2016-08-23 - sMAPE: 16.79%  |  MAE: 3.586\n",
      "2016-08-24 - sMAPE: 16.75%  |  MAE: 3.579\n",
      "2016-08-25 - sMAPE: 16.70%  |  MAE: 3.570\n",
      "2016-08-26 - sMAPE: 16.66%  |  MAE: 3.563\n",
      "2016-08-27 - sMAPE: 16.61%  |  MAE: 3.554\n",
      "2016-08-28 - sMAPE: 16.59%  |  MAE: 3.548\n",
      "2016-08-29 - sMAPE: 16.55%  |  MAE: 3.542\n",
      "2016-08-30 - sMAPE: 16.53%  |  MAE: 3.542\n",
      "2016-08-31 - sMAPE: 16.48%  |  MAE: 3.534\n",
      "2016-09-01 - sMAPE: 16.43%  |  MAE: 3.524\n",
      "2016-09-02 - sMAPE: 16.38%  |  MAE: 3.514\n",
      "2016-09-03 - sMAPE: 16.36%  |  MAE: 3.513\n",
      "2016-09-04 - sMAPE: 16.32%  |  MAE: 3.506\n",
      "2016-09-05 - sMAPE: 16.32%  |  MAE: 3.517\n",
      "2016-09-06 - sMAPE: 16.29%  |  MAE: 3.515\n",
      "2016-09-07 - sMAPE: 16.26%  |  MAE: 3.511\n",
      "2016-09-08 - sMAPE: 16.21%  |  MAE: 3.504\n",
      "2016-09-09 - sMAPE: 16.17%  |  MAE: 3.495\n",
      "2016-09-10 - sMAPE: 16.13%  |  MAE: 3.488\n",
      "2016-09-11 - sMAPE: 16.09%  |  MAE: 3.482\n",
      "2016-09-12 - sMAPE: 16.07%  |  MAE: 3.484\n",
      "2016-09-13 - sMAPE: 16.04%  |  MAE: 3.479\n",
      "2016-09-14 - sMAPE: 16.00%  |  MAE: 3.473\n",
      "2016-09-15 - sMAPE: 15.96%  |  MAE: 3.464\n",
      "2016-09-16 - sMAPE: 15.94%  |  MAE: 3.467\n",
      "2016-09-17 - sMAPE: 15.92%  |  MAE: 3.464\n",
      "2016-09-18 - sMAPE: 15.90%  |  MAE: 3.461\n",
      "2016-09-19 - sMAPE: 15.89%  |  MAE: 3.464\n",
      "2016-09-20 - sMAPE: 15.84%  |  MAE: 3.457\n",
      "2016-09-21 - sMAPE: 15.80%  |  MAE: 3.452\n",
      "2016-09-22 - sMAPE: 15.78%  |  MAE: 3.451\n",
      "2016-09-23 - sMAPE: 15.75%  |  MAE: 3.446\n",
      "2016-09-24 - sMAPE: 15.71%  |  MAE: 3.441\n",
      "2016-09-25 - sMAPE: 15.72%  |  MAE: 3.442\n",
      "2016-09-26 - sMAPE: 15.71%  |  MAE: 3.446\n",
      "2016-09-27 - sMAPE: 15.69%  |  MAE: 3.446\n",
      "2016-09-28 - sMAPE: 15.75%  |  MAE: 3.463\n",
      "2016-09-29 - sMAPE: 15.77%  |  MAE: 3.469\n",
      "2016-09-30 - sMAPE: 15.85%  |  MAE: 3.492\n",
      "2016-10-01 - sMAPE: 15.88%  |  MAE: 3.505\n",
      "2016-10-02 - sMAPE: 15.87%  |  MAE: 3.507\n",
      "2016-10-03 - sMAPE: 15.88%  |  MAE: 3.515\n",
      "2016-10-04 - sMAPE: 15.84%  |  MAE: 3.509\n",
      "2016-10-05 - sMAPE: 15.82%  |  MAE: 3.507\n",
      "2016-10-06 - sMAPE: 15.83%  |  MAE: 3.513\n",
      "2016-10-07 - sMAPE: 15.83%  |  MAE: 3.520\n",
      "2016-10-08 - sMAPE: 15.81%  |  MAE: 3.523\n",
      "2016-10-09 - sMAPE: 15.79%  |  MAE: 3.523\n",
      "2016-10-10 - sMAPE: 15.85%  |  MAE: 3.566\n",
      "2016-10-11 - sMAPE: 15.83%  |  MAE: 3.571\n",
      "2016-10-12 - sMAPE: 15.80%  |  MAE: 3.566\n",
      "2016-10-13 - sMAPE: 15.79%  |  MAE: 3.568\n",
      "2016-10-14 - sMAPE: 15.80%  |  MAE: 3.578\n",
      "2016-10-15 - sMAPE: 15.84%  |  MAE: 3.592\n",
      "2016-10-16 - sMAPE: 15.83%  |  MAE: 3.593\n",
      "2016-10-17 - sMAPE: 15.80%  |  MAE: 3.591\n",
      "2016-10-18 - sMAPE: 15.77%  |  MAE: 3.590\n",
      "2016-10-19 - sMAPE: 15.75%  |  MAE: 3.591\n",
      "2016-10-20 - sMAPE: 15.72%  |  MAE: 3.586\n",
      "2016-10-21 - sMAPE: 15.68%  |  MAE: 3.582\n",
      "2016-10-22 - sMAPE: 15.67%  |  MAE: 3.584\n",
      "2016-10-23 - sMAPE: 15.62%  |  MAE: 3.574\n",
      "2016-10-24 - sMAPE: 15.59%  |  MAE: 3.570\n",
      "2016-10-25 - sMAPE: 15.61%  |  MAE: 3.598\n",
      "2016-10-26 - sMAPE: 15.57%  |  MAE: 3.592\n",
      "2016-10-27 - sMAPE: 15.54%  |  MAE: 3.589\n",
      "2016-10-28 - sMAPE: 15.52%  |  MAE: 3.589\n",
      "2016-10-29 - sMAPE: 15.49%  |  MAE: 3.584\n",
      "2016-10-30 - sMAPE: 15.48%  |  MAE: 3.586\n",
      "2016-10-31 - sMAPE: 15.45%  |  MAE: 3.584\n",
      "2016-11-01 - sMAPE: 15.49%  |  MAE: 3.606\n",
      "2016-11-02 - sMAPE: 15.48%  |  MAE: 3.607\n",
      "2016-11-03 - sMAPE: 15.48%  |  MAE: 3.615\n",
      "2016-11-04 - sMAPE: 15.45%  |  MAE: 3.612\n",
      "2016-11-05 - sMAPE: 15.44%  |  MAE: 3.614\n",
      "2016-11-06 - sMAPE: 15.42%  |  MAE: 3.614\n",
      "2016-11-07 - sMAPE: 15.47%  |  MAE: 3.632\n",
      "2016-11-08 - sMAPE: 15.48%  |  MAE: 3.655\n",
      "2016-11-09 - sMAPE: 15.45%  |  MAE: 3.651\n",
      "2016-11-10 - sMAPE: 15.42%  |  MAE: 3.653\n",
      "2016-11-11 - sMAPE: 15.40%  |  MAE: 3.654\n",
      "2016-11-12 - sMAPE: 15.39%  |  MAE: 3.661\n",
      "2016-11-13 - sMAPE: 15.37%  |  MAE: 3.659\n",
      "2016-11-14 - sMAPE: 15.37%  |  MAE: 3.670\n",
      "2016-11-15 - sMAPE: 15.36%  |  MAE: 3.676\n",
      "2016-11-16 - sMAPE: 15.35%  |  MAE: 3.680\n",
      "2016-11-17 - sMAPE: 15.37%  |  MAE: 3.692\n",
      "2016-11-18 - sMAPE: 15.48%  |  MAE: 3.704\n",
      "2016-11-19 - sMAPE: 15.51%  |  MAE: 3.717\n",
      "2016-11-20 - sMAPE: 15.91%  |  MAE: 3.793\n",
      "2016-11-21 - sMAPE: 16.19%  |  MAE: 3.851\n",
      "2016-11-22 - sMAPE: 16.20%  |  MAE: 3.860\n",
      "2016-11-23 - sMAPE: 16.17%  |  MAE: 3.857\n",
      "2016-11-24 - sMAPE: 16.17%  |  MAE: 3.865\n",
      "2016-11-25 - sMAPE: 16.15%  |  MAE: 3.863\n",
      "2016-11-26 - sMAPE: 16.15%  |  MAE: 3.871\n",
      "2016-11-27 - sMAPE: 16.18%  |  MAE: 3.878\n",
      "2016-11-28 - sMAPE: 16.15%  |  MAE: 3.877\n",
      "2016-11-29 - sMAPE: 16.13%  |  MAE: 3.876\n",
      "2016-11-30 - sMAPE: 16.12%  |  MAE: 3.878\n",
      "2016-12-01 - sMAPE: 16.16%  |  MAE: 3.891\n",
      "2016-12-02 - sMAPE: 16.24%  |  MAE: 3.918\n",
      "2016-12-03 - sMAPE: 16.22%  |  MAE: 3.921\n",
      "2016-12-04 - sMAPE: 16.21%  |  MAE: 3.922\n",
      "2016-12-05 - sMAPE: 16.20%  |  MAE: 3.930\n",
      "2016-12-06 - sMAPE: 16.21%  |  MAE: 3.951\n",
      "2016-12-07 - sMAPE: 16.26%  |  MAE: 3.983\n",
      "2016-12-08 - sMAPE: 16.32%  |  MAE: 4.008\n",
      "2016-12-09 - sMAPE: 16.30%  |  MAE: 4.007\n",
      "2016-12-10 - sMAPE: 16.28%  |  MAE: 4.004\n",
      "2016-12-11 - sMAPE: 16.28%  |  MAE: 4.006\n",
      "2016-12-12 - sMAPE: 16.29%  |  MAE: 4.020\n",
      "2016-12-13 - sMAPE: 16.26%  |  MAE: 4.018\n",
      "2016-12-14 - sMAPE: 16.30%  |  MAE: 4.055\n",
      "2016-12-15 - sMAPE: 16.28%  |  MAE: 4.056\n",
      "2016-12-16 - sMAPE: 16.25%  |  MAE: 4.059\n",
      "2016-12-17 - sMAPE: 16.24%  |  MAE: 4.060\n",
      "2016-12-18 - sMAPE: 16.22%  |  MAE: 4.061\n",
      "2016-12-19 - sMAPE: 16.20%  |  MAE: 4.064\n",
      "2016-12-20 - sMAPE: 16.18%  |  MAE: 4.068\n",
      "2016-12-21 - sMAPE: 16.20%  |  MAE: 4.084\n",
      "2016-12-22 - sMAPE: 16.16%  |  MAE: 4.079\n",
      "2016-12-23 - sMAPE: 16.18%  |  MAE: 4.089\n",
      "2016-12-24 - sMAPE: 16.45%  |  MAE: 4.137\n",
      "2016-12-25 - sMAPE: 16.69%  |  MAE: 4.154\n",
      "2016-12-26 - sMAPE: 17.05%  |  MAE: 4.227\n",
      "2016-12-27 - sMAPE: 17.16%  |  MAE: 4.244\n",
      "2016-12-28 - sMAPE: 17.33%  |  MAE: 4.285\n",
      "2016-12-29 - sMAPE: 17.33%  |  MAE: 4.291\n",
      "2016-12-30 - sMAPE: 17.33%  |  MAE: 4.293\n",
      "2016-12-31 - sMAPE: 17.38%  |  MAE: 4.311\n",
      "2017-01-01 - sMAPE: 17.58%  |  MAE: 4.344\n",
      "2017-01-02 - sMAPE: 17.63%  |  MAE: 4.365\n",
      "2017-01-03 - sMAPE: 17.66%  |  MAE: 4.386\n",
      "2017-01-04 - sMAPE: 17.76%  |  MAE: 4.399\n",
      "2017-01-05 - sMAPE: 17.80%  |  MAE: 4.424\n",
      "2017-01-06 - sMAPE: 17.78%  |  MAE: 4.423\n",
      "2017-01-07 - sMAPE: 17.75%  |  MAE: 4.418\n",
      "2017-01-08 - sMAPE: 17.77%  |  MAE: 4.432\n",
      "2017-01-09 - sMAPE: 17.76%  |  MAE: 4.442\n",
      "2017-01-10 - sMAPE: 17.75%  |  MAE: 4.448\n",
      "2017-01-11 - sMAPE: 17.81%  |  MAE: 4.488\n",
      "2017-01-12 - sMAPE: 17.82%  |  MAE: 4.489\n",
      "2017-01-13 - sMAPE: 17.81%  |  MAE: 4.494\n",
      "2017-01-14 - sMAPE: 17.79%  |  MAE: 4.490\n",
      "2017-01-15 - sMAPE: 17.80%  |  MAE: 4.500\n",
      "2017-01-16 - sMAPE: 17.87%  |  MAE: 4.565\n",
      "2017-01-17 - sMAPE: 17.89%  |  MAE: 4.614\n",
      "2017-01-18 - sMAPE: 17.86%  |  MAE: 4.617\n",
      "2017-01-19 - sMAPE: 17.83%  |  MAE: 4.619\n",
      "2017-01-20 - sMAPE: 17.81%  |  MAE: 4.619\n",
      "2017-01-21 - sMAPE: 17.79%  |  MAE: 4.624\n",
      "2017-01-22 - sMAPE: 17.81%  |  MAE: 4.633\n",
      "2017-01-23 - sMAPE: 17.81%  |  MAE: 4.652\n",
      "2017-01-24 - sMAPE: 17.84%  |  MAE: 4.713\n",
      "2017-01-25 - sMAPE: 17.82%  |  MAE: 4.723\n",
      "2017-01-26 - sMAPE: 17.87%  |  MAE: 4.782\n"
     ]
    },
    {
     "name": "stdout",
     "output_type": "stream",
     "text": [
      "2017-01-27 - sMAPE: 17.90%  |  MAE: 4.808\n",
      "2017-01-28 - sMAPE: 17.91%  |  MAE: 4.815\n",
      "2017-01-29 - sMAPE: 17.93%  |  MAE: 4.824\n",
      "2017-01-30 - sMAPE: 17.96%  |  MAE: 4.855\n",
      "2017-01-31 - sMAPE: 17.94%  |  MAE: 4.861\n",
      "2017-02-01 - sMAPE: 17.95%  |  MAE: 4.881\n",
      "2017-02-02 - sMAPE: 17.94%  |  MAE: 4.887\n",
      "2017-02-03 - sMAPE: 17.92%  |  MAE: 4.885\n",
      "2017-02-04 - sMAPE: 17.89%  |  MAE: 4.881\n",
      "2017-02-05 - sMAPE: 17.86%  |  MAE: 4.874\n",
      "2017-02-06 - sMAPE: 17.85%  |  MAE: 4.882\n",
      "2017-02-07 - sMAPE: 17.83%  |  MAE: 4.882\n",
      "2017-02-08 - sMAPE: 17.83%  |  MAE: 4.896\n",
      "2017-02-09 - sMAPE: 17.80%  |  MAE: 4.894\n",
      "2017-02-10 - sMAPE: 17.80%  |  MAE: 4.902\n",
      "2017-02-11 - sMAPE: 17.80%  |  MAE: 4.906\n",
      "2017-02-12 - sMAPE: 17.79%  |  MAE: 4.905\n",
      "2017-02-13 - sMAPE: 17.78%  |  MAE: 4.907\n",
      "2017-02-14 - sMAPE: 17.77%  |  MAE: 4.908\n",
      "2017-02-15 - sMAPE: 17.74%  |  MAE: 4.904\n",
      "2017-02-16 - sMAPE: 17.72%  |  MAE: 4.903\n",
      "2017-02-17 - sMAPE: 17.69%  |  MAE: 4.898\n"
     ]
    }
   ],
   "source": [
    "# For loop over the recalibration dates\n",
    "for date in forecast_dates:\n",
    "    \n",
    "    scalers = df_scalers[(df_scalers.Date >= date) & (df_scalers.Date <= date + pd.Timedelta(hours=23))].scaler.to_numpy()\n",
    "\n",
    "    # For simulation purposes, we assume that the available data is\n",
    "    # the data up to current date where the prices of current date are not known\n",
    "    data_available = pd.concat([df_train, df_test.loc[:date + pd.Timedelta(hours=23), :]], axis=0)\n",
    "\n",
    "    # We set the real prices for current date to NaN in the dataframe of available data\n",
    "    data_available.loc[date:date + pd.Timedelta(hours=23), 'Price'] = np.NaN\n",
    "\n",
    "    # Recalibrating the model with the most up-to-date available data and making a prediction\n",
    "    # for the next day\n",
    "    Yp = model.recalibrate_and_forecast_next_day(df=data_available, next_day_date=date, \n",
    "                                                 calibration_window=calibration_window, scalers=scalers)\n",
    "    # Saving the current prediction\n",
    "    forecast.loc[date, :] = Yp\n",
    "\n",
    "    # Computing metrics up-to-current-date\n",
    "    mae = np.mean(MAE(forecast.loc[:date].values.squeeze(), real_values.loc[:date].values)) \n",
    "    smape = np.mean(sMAPE(forecast.loc[:date].values.squeeze(), real_values.loc[:date].values)) * 100\n",
    "\n",
    "    # Pringint information\n",
    "    print('{} - sMAPE: {:.2f}%  |  MAE: {:.3f}'.format(str(date)[:10], smape, mae))"
   ]
  },
  {
   "cell_type": "code",
   "execution_count": null,
   "id": "73812413",
   "metadata": {
    "ExecuteTime": {
     "end_time": "2023-06-18T22:05:42.635212Z",
     "start_time": "2023-06-18T22:05:42.583819Z"
    }
   },
   "outputs": [],
   "source": [
    "forecast"
   ]
  },
  {
   "cell_type": "code",
   "execution_count": null,
   "id": "b6bf2012",
   "metadata": {
    "ExecuteTime": {
     "end_time": "2023-06-18T22:05:42.697203Z",
     "start_time": "2023-06-18T22:05:42.637215Z"
    }
   },
   "outputs": [],
   "source": [
    "forecast.to_csv(\"Resultados/estandarizacion_movil_lear_de_epftoolbox_final_2_anos_ventana_no_outliers.csv\")"
   ]
  },
  {
   "cell_type": "code",
   "execution_count": null,
   "id": "798806eb",
   "metadata": {},
   "outputs": [],
   "source": []
  },
  {
   "cell_type": "code",
   "execution_count": null,
   "id": "bcf33f32",
   "metadata": {
    "ExecuteTime": {
     "end_time": "2023-06-18T22:05:42.712522Z",
     "start_time": "2023-06-18T22:05:42.700736Z"
    }
   },
   "outputs": [],
   "source": [
    "forecast = pd.DataFrame(index=df_test.index[::24], columns=['h' + str(k) for k in range(24)])"
   ]
  },
  {
   "cell_type": "code",
   "execution_count": null,
   "id": "dfe96008",
   "metadata": {
    "ExecuteTime": {
     "end_time": "2023-06-18T22:05:42.727994Z",
     "start_time": "2023-06-18T22:05:42.714503Z"
    }
   },
   "outputs": [],
   "source": [
    "forecast_dates = forecast.index"
   ]
  },
  {
   "cell_type": "code",
   "execution_count": null,
   "id": "1a8323b8",
   "metadata": {
    "ExecuteTime": {
     "end_time": "2023-06-18T22:05:42.743428Z",
     "start_time": "2023-06-18T22:05:42.730593Z"
    }
   },
   "outputs": [],
   "source": [
    "calibration_window = 1*364"
   ]
  },
  {
   "cell_type": "code",
   "execution_count": null,
   "id": "b8c11b8e",
   "metadata": {
    "ExecuteTime": {
     "end_time": "2023-06-18T22:05:42.758757Z",
     "start_time": "2023-06-18T22:05:42.745714Z"
    }
   },
   "outputs": [],
   "source": [
    "model = LEAR(calibration_window=calibration_window)"
   ]
  },
  {
   "cell_type": "code",
   "execution_count": null,
   "id": "6d1bcc60",
   "metadata": {
    "ExecuteTime": {
     "end_time": "2023-06-19T16:19:29.988497Z",
     "start_time": "2023-06-18T22:05:42.760757Z"
    },
    "scrolled": true
   },
   "outputs": [],
   "source": [
    "# For loop over the recalibration dates\n",
    "for date in forecast_dates:\n",
    "    \n",
    "    scalers = df_scalers[(df_scalers.Date >= date) & (df_scalers.Date <= date + pd.Timedelta(hours=23))].scaler.to_numpy()\n",
    "\n",
    "    # For simulation purposes, we assume that the available data is\n",
    "    # the data up to current date where the prices of current date are not known\n",
    "    data_available = pd.concat([df_train, df_test.loc[:date + pd.Timedelta(hours=23), :]], axis=0)\n",
    "\n",
    "    # We set the real prices for current date to NaN in the dataframe of available data\n",
    "    data_available.loc[date:date + pd.Timedelta(hours=23), 'Price'] = np.NaN\n",
    "\n",
    "    # Recalibrating the model with the most up-to-date available data and making a prediction\n",
    "    # for the next day\n",
    "    Yp = model.recalibrate_and_forecast_next_day(df=data_available, next_day_date=date, \n",
    "                                                 calibration_window=calibration_window, scalers=scalers)\n",
    "    # Saving the current prediction\n",
    "    forecast.loc[date, :] = Yp\n",
    "\n",
    "    # Computing metrics up-to-current-date\n",
    "    mae = np.mean(MAE(forecast.loc[:date].values.squeeze(), real_values.loc[:date].values)) \n",
    "    smape = np.mean(sMAPE(forecast.loc[:date].values.squeeze(), real_values.loc[:date].values)) * 100\n",
    "\n",
    "    # Pringint information\n",
    "    print('{} - sMAPE: {:.2f}%  |  MAE: {:.3f}'.format(str(date)[:10], smape, mae))"
   ]
  },
  {
   "cell_type": "code",
   "execution_count": null,
   "id": "fda69b83",
   "metadata": {
    "ExecuteTime": {
     "end_time": "2023-06-19T16:19:30.030535Z",
     "start_time": "2023-06-19T16:19:29.992158Z"
    }
   },
   "outputs": [],
   "source": [
    "forecast"
   ]
  },
  {
   "cell_type": "code",
   "execution_count": null,
   "id": "671c7dee",
   "metadata": {
    "ExecuteTime": {
     "end_time": "2023-06-19T16:19:30.078560Z",
     "start_time": "2023-06-19T16:19:30.031034Z"
    }
   },
   "outputs": [],
   "source": [
    "forecast.to_csv(\"Resultados/estandarizacion_movil_lear_de_epftoolbox_final_1_ano_ventana_no_outliers.csv\")"
   ]
  },
  {
   "cell_type": "code",
   "execution_count": null,
   "id": "6dd6f803",
   "metadata": {},
   "outputs": [],
   "source": []
  },
  {
   "cell_type": "code",
   "execution_count": null,
   "id": "30ce3ae0",
   "metadata": {
    "ExecuteTime": {
     "end_time": "2023-06-19T19:42:16.482577Z",
     "start_time": "2023-06-19T19:42:16.454571Z"
    }
   },
   "outputs": [],
   "source": [
    "forecast = pd.DataFrame(index=df_test.index[::24], columns=['h' + str(k) for k in range(24)])"
   ]
  },
  {
   "cell_type": "code",
   "execution_count": null,
   "id": "a902bc4c",
   "metadata": {
    "ExecuteTime": {
     "end_time": "2023-06-19T19:42:16.520075Z",
     "start_time": "2023-06-19T19:42:16.500629Z"
    }
   },
   "outputs": [],
   "source": [
    "forecast_dates = forecast.index"
   ]
  },
  {
   "cell_type": "code",
   "execution_count": null,
   "id": "afc01307",
   "metadata": {
    "ExecuteTime": {
     "end_time": "2023-06-19T19:42:16.536066Z",
     "start_time": "2023-06-19T19:42:16.520075Z"
    }
   },
   "outputs": [],
   "source": [
    "calibration_window = 182"
   ]
  },
  {
   "cell_type": "code",
   "execution_count": null,
   "id": "e5491788",
   "metadata": {
    "ExecuteTime": {
     "end_time": "2023-06-19T19:42:16.621063Z",
     "start_time": "2023-06-19T19:42:16.594628Z"
    }
   },
   "outputs": [],
   "source": [
    "model = LEAR(calibration_window=calibration_window)"
   ]
  },
  {
   "cell_type": "code",
   "execution_count": null,
   "id": "df97f492",
   "metadata": {
    "ExecuteTime": {
     "end_time": "2023-06-20T12:45:01.046257Z",
     "start_time": "2023-06-19T19:42:17.618977Z"
    },
    "scrolled": true
   },
   "outputs": [],
   "source": [
    "# For loop over the recalibration dates\n",
    "for date in forecast_dates:\n",
    "    \n",
    "    scalers = df_scalers[(df_scalers.Date >= date) & (df_scalers.Date <= date + pd.Timedelta(hours=23))].scaler.to_numpy()\n",
    "\n",
    "    # For simulation purposes, we assume that the available data is\n",
    "    # the data up to current date where the prices of current date are not known\n",
    "    data_available = pd.concat([df_train, df_test.loc[:date + pd.Timedelta(hours=23), :]], axis=0)\n",
    "\n",
    "    # We set the real prices for current date to NaN in the dataframe of available data\n",
    "    data_available.loc[date:date + pd.Timedelta(hours=23), 'Price'] = np.NaN\n",
    "\n",
    "    # Recalibrating the model with the most up-to-date available data and making a prediction\n",
    "    # for the next day\n",
    "    Yp = model.recalibrate_and_forecast_next_day(df=data_available, next_day_date=date, \n",
    "                                                 calibration_window=calibration_window, scalers=scalers)\n",
    "    # Saving the current prediction\n",
    "    forecast.loc[date, :] = Yp\n",
    "\n",
    "    # Computing metrics up-to-current-date\n",
    "    mae = np.mean(MAE(forecast.loc[:date].values.squeeze(), real_values.loc[:date].values)) \n",
    "    smape = np.mean(sMAPE(forecast.loc[:date].values.squeeze(), real_values.loc[:date].values)) * 100\n",
    "\n",
    "    # Pringint information\n",
    "    print('{} - sMAPE: {:.2f}%  |  MAE: {:.3f}'.format(str(date)[:10], smape, mae))"
   ]
  },
  {
   "cell_type": "code",
   "execution_count": null,
   "id": "59781806",
   "metadata": {
    "ExecuteTime": {
     "end_time": "2023-06-20T12:45:01.119244Z",
     "start_time": "2023-06-20T12:45:01.056519Z"
    }
   },
   "outputs": [],
   "source": [
    "forecast"
   ]
  },
  {
   "cell_type": "code",
   "execution_count": null,
   "id": "0f4f385d",
   "metadata": {
    "ExecuteTime": {
     "end_time": "2023-06-20T12:45:01.162092Z",
     "start_time": "2023-06-20T12:45:01.119737Z"
    }
   },
   "outputs": [],
   "source": [
    "forecast.to_csv(\"Resultados/estandarizacion_movil_lear_de_epftoolbox_final_6_meses_ventana_no_outliers.csv\")"
   ]
  },
  {
   "cell_type": "code",
   "execution_count": null,
   "id": "ac0db1ad",
   "metadata": {},
   "outputs": [],
   "source": []
  },
  {
   "cell_type": "code",
   "execution_count": null,
   "id": "235d592b",
   "metadata": {
    "ExecuteTime": {
     "end_time": "2023-06-20T20:43:44.333255Z",
     "start_time": "2023-06-20T20:43:44.304171Z"
    }
   },
   "outputs": [],
   "source": [
    "forecast = pd.DataFrame(index=df_test.index[::24], columns=['h' + str(k) for k in range(24)])"
   ]
  },
  {
   "cell_type": "code",
   "execution_count": null,
   "id": "6fbe69df",
   "metadata": {
    "ExecuteTime": {
     "end_time": "2023-06-20T20:43:44.352611Z",
     "start_time": "2023-06-20T20:43:44.337380Z"
    }
   },
   "outputs": [],
   "source": [
    "forecast_dates = forecast.index"
   ]
  },
  {
   "cell_type": "code",
   "execution_count": null,
   "id": "622bf3e7",
   "metadata": {
    "ExecuteTime": {
     "end_time": "2023-06-20T20:43:44.361866Z",
     "start_time": "2023-06-20T20:43:44.356148Z"
    }
   },
   "outputs": [],
   "source": [
    "calibration_window = None"
   ]
  },
  {
   "cell_type": "code",
   "execution_count": null,
   "id": "fecbded8",
   "metadata": {
    "ExecuteTime": {
     "end_time": "2023-06-20T20:43:44.378024Z",
     "start_time": "2023-06-20T20:43:44.367222Z"
    }
   },
   "outputs": [],
   "source": [
    "model = LEAR(calibration_window=calibration_window)"
   ]
  },
  {
   "cell_type": "code",
   "execution_count": null,
   "id": "6a13374c",
   "metadata": {
    "ExecuteTime": {
     "start_time": "2023-06-20T20:43:28.124Z"
    },
    "scrolled": true
   },
   "outputs": [],
   "source": [
    "# For loop over the recalibration dates\n",
    "for date in forecast_dates:\n",
    "    \n",
    "    scalers = df_scalers[(df_scalers.Date >= date) & (df_scalers.Date <= date + pd.Timedelta(hours=23))].scaler.to_numpy()\n",
    "\n",
    "    # For simulation purposes, we assume that the available data is\n",
    "    # the data up to current date where the prices of current date are not known\n",
    "    data_available = pd.concat([df_train, df_test.loc[:date + pd.Timedelta(hours=23), :]], axis=0)\n",
    "\n",
    "    # We set the real prices for current date to NaN in the dataframe of available data\n",
    "    data_available.loc[date:date + pd.Timedelta(hours=23), 'Price'] = np.NaN\n",
    "\n",
    "    # Recalibrating the model with the most up-to-date available data and making a prediction\n",
    "    # for the next day\n",
    "    Yp = model.recalibrate_and_forecast_next_day(df=data_available, next_day_date=date, \n",
    "                                                 calibration_window=calibration_window, scalers=scalers)\n",
    "    # Saving the current prediction\n",
    "    forecast.loc[date, :] = Yp\n",
    "\n",
    "    # Computing metrics up-to-current-date\n",
    "    mae = np.mean(MAE(forecast.loc[:date].values.squeeze(), real_values.loc[:date].values)) \n",
    "    smape = np.mean(sMAPE(forecast.loc[:date].values.squeeze(), real_values.loc[:date].values)) * 100\n",
    "\n",
    "    # Pringint information\n",
    "    print('{} - sMAPE: {:.2f}%  |  MAE: {:.3f}'.format(str(date)[:10], smape, mae))"
   ]
  },
  {
   "cell_type": "code",
   "execution_count": null,
   "id": "3bbf07ba",
   "metadata": {
    "ExecuteTime": {
     "end_time": "2023-06-21T05:25:58.491942Z",
     "start_time": "2023-06-21T05:25:58.458844Z"
    }
   },
   "outputs": [],
   "source": [
    "forecast"
   ]
  },
  {
   "cell_type": "code",
   "execution_count": null,
   "id": "8fac3122",
   "metadata": {
    "ExecuteTime": {
     "end_time": "2023-06-21T05:25:58.530261Z",
     "start_time": "2023-06-21T05:25:58.492721Z"
    }
   },
   "outputs": [],
   "source": [
    "forecast.to_csv(\"Resultados/estandarizacion_movil_lear_de_epftoolbox_final_sin_ventana_no_outliers.csv\")"
   ]
  },
  {
   "cell_type": "code",
   "execution_count": null,
   "id": "cbae0b72",
   "metadata": {},
   "outputs": [],
   "source": []
  }
 ],
 "metadata": {
  "kernelspec": {
   "display_name": "Python 3 (ipykernel)",
   "language": "python",
   "name": "python3"
  },
  "language_info": {
   "codemirror_mode": {
    "name": "ipython",
    "version": 3
   },
   "file_extension": ".py",
   "mimetype": "text/x-python",
   "name": "python",
   "nbconvert_exporter": "python",
   "pygments_lexer": "ipython3",
   "version": "3.9.7"
  }
 },
 "nbformat": 4,
 "nbformat_minor": 5
}
